{
 "cells": [
  {
   "cell_type": "code",
   "execution_count": 1,
   "metadata": {
    "collapsed": true,
    "ExecuteTime": {
     "start_time": "2023-04-16T15:40:58.072272Z",
     "end_time": "2023-04-16T15:41:05.579852Z"
    }
   },
   "outputs": [],
   "source": [
    "import pandas as pd\n",
    "import numpy as np\n",
    "import tensorflow as tf\n",
    "import xgboost as xgb\n",
    "\n",
    "# Подготовка данных для обучения и тестирования модели:\n",
    "from sklearn.model_selection import train_test_split\n",
    "\n",
    "# Создание и обучение модели машинного обучения:\n",
    "from sklearn.ensemble import RandomForestRegressor\n",
    "from sklearn.metrics import mean_absolute_error,mean_squared_error, r2_score\n",
    "\n",
    "# Пример трансформации признаков\n",
    "from sklearn.preprocessing import StandardScaler, PowerTransformer\n",
    "\n",
    "# Пример ранней остановки для градиентного бустинга\n",
    "from sklearn.ensemble import GradientBoostingRegressor\n",
    "from sklearn.metrics import mean_squared_error\n",
    "\n",
    "# Создание и обучение нейронной сети:\n",
    "from tensorflow import keras\n",
    "from tensorflow.keras import Sequential\n",
    "from tensorflow.keras.layers import Dense, Dropout\n"
   ]
  },
  {
   "cell_type": "markdown",
   "source": [
    "## Загрузка и обработка входных датасетов"
   ],
   "metadata": {
    "collapsed": false
   }
  },
  {
   "cell_type": "code",
   "execution_count": 2,
   "outputs": [
    {
     "data": {
      "text/plain": "(1023, 11)"
     },
     "execution_count": 2,
     "metadata": {},
     "output_type": "execute_result"
    }
   ],
   "source": [
    "# Загрузка данных из файла X_bp.xlsx с указанием кодировки в DataFrame: 'df1'\n",
    "df1 = pd.read_excel('C:/Users/Shahm/DataspellProjects/VKR/Shakhmatov_VKR/X_bp.xlsx', engine='openpyxl')\n",
    "\n",
    "# Вывод общего количества строк и столбцов\n",
    "df1.shape"
   ],
   "metadata": {
    "collapsed": false,
    "ExecuteTime": {
     "start_time": "2023-04-16T15:41:05.582902Z",
     "end_time": "2023-04-16T15:41:06.329505Z"
    }
   }
  },
  {
   "cell_type": "code",
   "execution_count": 3,
   "outputs": [
    {
     "data": {
      "text/plain": "Unnamed: 0                              0\nСоотношение матрица-наполнитель         0\nПлотность, кг/м3                        0\nмодуль упругости, ГПа                   0\nКоличество отвердителя, м.%             0\nСодержание эпоксидных групп,%_2         0\nТемпература вспышки, С_2                0\nПоверхностная плотность, г/м2           0\nМодуль упругости при растяжении, ГПа    0\nПрочность при растяжении, МПа           0\nПотребление смолы, г/м2                 0\ndtype: int64"
     },
     "execution_count": 3,
     "metadata": {},
     "output_type": "execute_result"
    }
   ],
   "source": [
    "# Проверка на пропуски\n",
    "df1.isnull().sum()"
   ],
   "metadata": {
    "collapsed": false,
    "ExecuteTime": {
     "start_time": "2023-04-16T15:41:06.332617Z",
     "end_time": "2023-04-16T15:41:06.390282Z"
    }
   }
  },
  {
   "cell_type": "code",
   "execution_count": 4,
   "outputs": [
    {
     "data": {
      "text/plain": "0"
     },
     "execution_count": 4,
     "metadata": {},
     "output_type": "execute_result"
    }
   ],
   "source": [
    "# Проверка на дубликаты\n",
    "df1.duplicated().sum()"
   ],
   "metadata": {
    "collapsed": false,
    "ExecuteTime": {
     "start_time": "2023-04-16T15:41:06.347149Z",
     "end_time": "2023-04-16T15:41:06.407870Z"
    }
   }
  },
  {
   "cell_type": "code",
   "execution_count": 5,
   "outputs": [
    {
     "data": {
      "text/plain": "                                       count         mean         std  \\\nUnnamed: 0                            1023.0   511.000000  295.458965   \nСоотношение матрица-наполнитель       1023.0     2.930366    0.913222   \nПлотность, кг/м3                      1023.0  1975.734888   73.729231   \nмодуль упругости, ГПа                 1023.0   739.923233  330.231581   \nКоличество отвердителя, м.%           1023.0   110.570769   28.295911   \nСодержание эпоксидных групп,%_2       1023.0    22.244390    2.406301   \nТемпература вспышки, С_2              1023.0   285.882151   40.943260   \nПоверхностная плотность, г/м2         1023.0   482.731833  281.314690   \nМодуль упругости при растяжении, ГПа  1023.0    73.328571    3.118983   \nПрочность при растяжении, МПа         1023.0  2466.922843  485.628006   \nПотребление смолы, г/м2               1023.0   218.423144   59.735931   \n\n                                              min          25%          50%  \\\nUnnamed: 0                               0.000000   255.500000   511.000000   \nСоотношение матрица-наполнитель          0.389403     2.317887     2.906878   \nПлотность, кг/м3                      1731.764635  1924.155467  1977.621657   \nмодуль упругости, ГПа                    2.436909   500.047452   739.664328   \nКоличество отвердителя, м.%             17.740275    92.443497   110.564840   \nСодержание эпоксидных групп,%_2         14.254985    20.608034    22.230744   \nТемпература вспышки, С_2               100.000000   259.066528   285.896812   \nПоверхностная плотность, г/м2            0.603740   266.816645   451.864365   \nМодуль упругости при растяжении, ГПа    64.054061    71.245018    73.268805   \nПрочность при растяжении, МПа         1036.856605  2135.850448  2459.524526   \nПотребление смолы, г/м2                 33.803026   179.627520   219.198882   \n\n                                              75%          max  \nUnnamed: 0                             766.500000  1022.000000  \nСоотношение матрица-наполнитель          3.552660     5.591742  \nПлотность, кг/м3                      2021.374375  2207.773481  \nмодуль упругости, ГПа                  961.812526  1911.536477  \nКоличество отвердителя, м.%            129.730366   198.953207  \nСодержание эпоксидных групп,%_2         23.961934    33.000000  \nТемпература вспышки, С_2               313.002106   413.273418  \nПоверхностная плотность, г/м2          693.225017  1399.542362  \nМодуль упругости при растяжении, ГПа    75.356612    82.682051  \nПрочность при растяжении, МПа         2767.193119  3848.436732  \nПотребление смолы, г/м2                257.481724   414.590628  ",
      "text/html": "<div>\n<style scoped>\n    .dataframe tbody tr th:only-of-type {\n        vertical-align: middle;\n    }\n\n    .dataframe tbody tr th {\n        vertical-align: top;\n    }\n\n    .dataframe thead th {\n        text-align: right;\n    }\n</style>\n<table border=\"1\" class=\"dataframe\">\n  <thead>\n    <tr style=\"text-align: right;\">\n      <th></th>\n      <th>count</th>\n      <th>mean</th>\n      <th>std</th>\n      <th>min</th>\n      <th>25%</th>\n      <th>50%</th>\n      <th>75%</th>\n      <th>max</th>\n    </tr>\n  </thead>\n  <tbody>\n    <tr>\n      <th>Unnamed: 0</th>\n      <td>1023.0</td>\n      <td>511.000000</td>\n      <td>295.458965</td>\n      <td>0.000000</td>\n      <td>255.500000</td>\n      <td>511.000000</td>\n      <td>766.500000</td>\n      <td>1022.000000</td>\n    </tr>\n    <tr>\n      <th>Соотношение матрица-наполнитель</th>\n      <td>1023.0</td>\n      <td>2.930366</td>\n      <td>0.913222</td>\n      <td>0.389403</td>\n      <td>2.317887</td>\n      <td>2.906878</td>\n      <td>3.552660</td>\n      <td>5.591742</td>\n    </tr>\n    <tr>\n      <th>Плотность, кг/м3</th>\n      <td>1023.0</td>\n      <td>1975.734888</td>\n      <td>73.729231</td>\n      <td>1731.764635</td>\n      <td>1924.155467</td>\n      <td>1977.621657</td>\n      <td>2021.374375</td>\n      <td>2207.773481</td>\n    </tr>\n    <tr>\n      <th>модуль упругости, ГПа</th>\n      <td>1023.0</td>\n      <td>739.923233</td>\n      <td>330.231581</td>\n      <td>2.436909</td>\n      <td>500.047452</td>\n      <td>739.664328</td>\n      <td>961.812526</td>\n      <td>1911.536477</td>\n    </tr>\n    <tr>\n      <th>Количество отвердителя, м.%</th>\n      <td>1023.0</td>\n      <td>110.570769</td>\n      <td>28.295911</td>\n      <td>17.740275</td>\n      <td>92.443497</td>\n      <td>110.564840</td>\n      <td>129.730366</td>\n      <td>198.953207</td>\n    </tr>\n    <tr>\n      <th>Содержание эпоксидных групп,%_2</th>\n      <td>1023.0</td>\n      <td>22.244390</td>\n      <td>2.406301</td>\n      <td>14.254985</td>\n      <td>20.608034</td>\n      <td>22.230744</td>\n      <td>23.961934</td>\n      <td>33.000000</td>\n    </tr>\n    <tr>\n      <th>Температура вспышки, С_2</th>\n      <td>1023.0</td>\n      <td>285.882151</td>\n      <td>40.943260</td>\n      <td>100.000000</td>\n      <td>259.066528</td>\n      <td>285.896812</td>\n      <td>313.002106</td>\n      <td>413.273418</td>\n    </tr>\n    <tr>\n      <th>Поверхностная плотность, г/м2</th>\n      <td>1023.0</td>\n      <td>482.731833</td>\n      <td>281.314690</td>\n      <td>0.603740</td>\n      <td>266.816645</td>\n      <td>451.864365</td>\n      <td>693.225017</td>\n      <td>1399.542362</td>\n    </tr>\n    <tr>\n      <th>Модуль упругости при растяжении, ГПа</th>\n      <td>1023.0</td>\n      <td>73.328571</td>\n      <td>3.118983</td>\n      <td>64.054061</td>\n      <td>71.245018</td>\n      <td>73.268805</td>\n      <td>75.356612</td>\n      <td>82.682051</td>\n    </tr>\n    <tr>\n      <th>Прочность при растяжении, МПа</th>\n      <td>1023.0</td>\n      <td>2466.922843</td>\n      <td>485.628006</td>\n      <td>1036.856605</td>\n      <td>2135.850448</td>\n      <td>2459.524526</td>\n      <td>2767.193119</td>\n      <td>3848.436732</td>\n    </tr>\n    <tr>\n      <th>Потребление смолы, г/м2</th>\n      <td>1023.0</td>\n      <td>218.423144</td>\n      <td>59.735931</td>\n      <td>33.803026</td>\n      <td>179.627520</td>\n      <td>219.198882</td>\n      <td>257.481724</td>\n      <td>414.590628</td>\n    </tr>\n  </tbody>\n</table>\n</div>"
     },
     "execution_count": 5,
     "metadata": {},
     "output_type": "execute_result"
    }
   ],
   "source": [
    "# Анализ данных с использованием описательной статистики\n",
    "df1.describe().T"
   ],
   "metadata": {
    "collapsed": false,
    "ExecuteTime": {
     "start_time": "2023-04-16T15:41:06.363191Z",
     "end_time": "2023-04-16T15:41:06.409383Z"
    }
   }
  },
  {
   "cell_type": "code",
   "execution_count": 6,
   "outputs": [
    {
     "data": {
      "text/plain": "                                                0            1            2  \\\nUnnamed: 0                               0.000000     1.000000     2.000000   \nСоотношение матрица-наполнитель          1.857143     1.857143     1.857143   \nПлотность, кг/м3                      2030.000000  2030.000000  2030.000000   \nмодуль упругости, ГПа                  738.736842   738.736842   738.736842   \nКоличество отвердителя, м.%             30.000000    50.000000    49.900000   \nСодержание эпоксидных групп,%_2         22.267857    23.750000    33.000000   \nТемпература вспышки, С_2               100.000000   284.615385   284.615385   \nПоверхностная плотность, г/м2          210.000000   210.000000   210.000000   \nМодуль упругости при растяжении, ГПа    70.000000    70.000000    70.000000   \nПрочность при растяжении, МПа         3000.000000  3000.000000  3000.000000   \nПотребление смолы, г/м2                220.000000   220.000000   220.000000   \n\n                                                3            4  \nUnnamed: 0                               3.000000     4.000000  \nСоотношение матрица-наполнитель          1.857143     2.771331  \nПлотность, кг/м3                      2030.000000  2030.000000  \nмодуль упругости, ГПа                  738.736842   753.000000  \nКоличество отвердителя, м.%            129.000000   111.860000  \nСодержание эпоксидных групп,%_2         21.250000    22.267857  \nТемпература вспышки, С_2               300.000000   284.615385  \nПоверхностная плотность, г/м2          210.000000   210.000000  \nМодуль упругости при растяжении, ГПа    70.000000    70.000000  \nПрочность при растяжении, МПа         3000.000000  3000.000000  \nПотребление смолы, г/м2                220.000000   220.000000  ",
      "text/html": "<div>\n<style scoped>\n    .dataframe tbody tr th:only-of-type {\n        vertical-align: middle;\n    }\n\n    .dataframe tbody tr th {\n        vertical-align: top;\n    }\n\n    .dataframe thead th {\n        text-align: right;\n    }\n</style>\n<table border=\"1\" class=\"dataframe\">\n  <thead>\n    <tr style=\"text-align: right;\">\n      <th></th>\n      <th>0</th>\n      <th>1</th>\n      <th>2</th>\n      <th>3</th>\n      <th>4</th>\n    </tr>\n  </thead>\n  <tbody>\n    <tr>\n      <th>Unnamed: 0</th>\n      <td>0.000000</td>\n      <td>1.000000</td>\n      <td>2.000000</td>\n      <td>3.000000</td>\n      <td>4.000000</td>\n    </tr>\n    <tr>\n      <th>Соотношение матрица-наполнитель</th>\n      <td>1.857143</td>\n      <td>1.857143</td>\n      <td>1.857143</td>\n      <td>1.857143</td>\n      <td>2.771331</td>\n    </tr>\n    <tr>\n      <th>Плотность, кг/м3</th>\n      <td>2030.000000</td>\n      <td>2030.000000</td>\n      <td>2030.000000</td>\n      <td>2030.000000</td>\n      <td>2030.000000</td>\n    </tr>\n    <tr>\n      <th>модуль упругости, ГПа</th>\n      <td>738.736842</td>\n      <td>738.736842</td>\n      <td>738.736842</td>\n      <td>738.736842</td>\n      <td>753.000000</td>\n    </tr>\n    <tr>\n      <th>Количество отвердителя, м.%</th>\n      <td>30.000000</td>\n      <td>50.000000</td>\n      <td>49.900000</td>\n      <td>129.000000</td>\n      <td>111.860000</td>\n    </tr>\n    <tr>\n      <th>Содержание эпоксидных групп,%_2</th>\n      <td>22.267857</td>\n      <td>23.750000</td>\n      <td>33.000000</td>\n      <td>21.250000</td>\n      <td>22.267857</td>\n    </tr>\n    <tr>\n      <th>Температура вспышки, С_2</th>\n      <td>100.000000</td>\n      <td>284.615385</td>\n      <td>284.615385</td>\n      <td>300.000000</td>\n      <td>284.615385</td>\n    </tr>\n    <tr>\n      <th>Поверхностная плотность, г/м2</th>\n      <td>210.000000</td>\n      <td>210.000000</td>\n      <td>210.000000</td>\n      <td>210.000000</td>\n      <td>210.000000</td>\n    </tr>\n    <tr>\n      <th>Модуль упругости при растяжении, ГПа</th>\n      <td>70.000000</td>\n      <td>70.000000</td>\n      <td>70.000000</td>\n      <td>70.000000</td>\n      <td>70.000000</td>\n    </tr>\n    <tr>\n      <th>Прочность при растяжении, МПа</th>\n      <td>3000.000000</td>\n      <td>3000.000000</td>\n      <td>3000.000000</td>\n      <td>3000.000000</td>\n      <td>3000.000000</td>\n    </tr>\n    <tr>\n      <th>Потребление смолы, г/м2</th>\n      <td>220.000000</td>\n      <td>220.000000</td>\n      <td>220.000000</td>\n      <td>220.000000</td>\n      <td>220.000000</td>\n    </tr>\n  </tbody>\n</table>\n</div>"
     },
     "execution_count": 6,
     "metadata": {},
     "output_type": "execute_result"
    }
   ],
   "source": [
    "# Смотрим первые 5 строк DataFrame: 'df1'\n",
    "df1.head().T"
   ],
   "metadata": {
    "collapsed": false,
    "ExecuteTime": {
     "start_time": "2023-04-16T15:41:06.410383Z",
     "end_time": "2023-04-16T15:41:06.507318Z"
    }
   }
  },
  {
   "cell_type": "code",
   "execution_count": 7,
   "outputs": [
    {
     "data": {
      "text/plain": "(1023, 10)"
     },
     "execution_count": 7,
     "metadata": {},
     "output_type": "execute_result"
    }
   ],
   "source": [
    "# Удаление столбца 'Unnamed: 0' с неинформативными данными\n",
    "df1 = df1.drop(['Unnamed: 0'], axis=1)\n",
    "\n",
    "# Вывод общего количества строк и столбцов\n",
    "df1.shape"
   ],
   "metadata": {
    "collapsed": false,
    "ExecuteTime": {
     "start_time": "2023-04-16T15:41:06.430531Z",
     "end_time": "2023-04-16T15:41:06.508318Z"
    }
   }
  },
  {
   "cell_type": "code",
   "execution_count": 8,
   "outputs": [
    {
     "data": {
      "text/plain": "                                                0            1            2  \\\nСоотношение матрица-наполнитель          1.857143     1.857143     1.857143   \nПлотность, кг/м3                      2030.000000  2030.000000  2030.000000   \nмодуль упругости, ГПа                  738.736842   738.736842   738.736842   \nКоличество отвердителя, м.%             30.000000    50.000000    49.900000   \nСодержание эпоксидных групп,%_2         22.267857    23.750000    33.000000   \nТемпература вспышки, С_2               100.000000   284.615385   284.615385   \nПоверхностная плотность, г/м2          210.000000   210.000000   210.000000   \nМодуль упругости при растяжении, ГПа    70.000000    70.000000    70.000000   \nПрочность при растяжении, МПа         3000.000000  3000.000000  3000.000000   \nПотребление смолы, г/м2                220.000000   220.000000   220.000000   \n\n                                                3            4  \nСоотношение матрица-наполнитель          1.857143     2.771331  \nПлотность, кг/м3                      2030.000000  2030.000000  \nмодуль упругости, ГПа                  738.736842   753.000000  \nКоличество отвердителя, м.%            129.000000   111.860000  \nСодержание эпоксидных групп,%_2         21.250000    22.267857  \nТемпература вспышки, С_2               300.000000   284.615385  \nПоверхностная плотность, г/м2          210.000000   210.000000  \nМодуль упругости при растяжении, ГПа    70.000000    70.000000  \nПрочность при растяжении, МПа         3000.000000  3000.000000  \nПотребление смолы, г/м2                220.000000   220.000000  ",
      "text/html": "<div>\n<style scoped>\n    .dataframe tbody tr th:only-of-type {\n        vertical-align: middle;\n    }\n\n    .dataframe tbody tr th {\n        vertical-align: top;\n    }\n\n    .dataframe thead th {\n        text-align: right;\n    }\n</style>\n<table border=\"1\" class=\"dataframe\">\n  <thead>\n    <tr style=\"text-align: right;\">\n      <th></th>\n      <th>0</th>\n      <th>1</th>\n      <th>2</th>\n      <th>3</th>\n      <th>4</th>\n    </tr>\n  </thead>\n  <tbody>\n    <tr>\n      <th>Соотношение матрица-наполнитель</th>\n      <td>1.857143</td>\n      <td>1.857143</td>\n      <td>1.857143</td>\n      <td>1.857143</td>\n      <td>2.771331</td>\n    </tr>\n    <tr>\n      <th>Плотность, кг/м3</th>\n      <td>2030.000000</td>\n      <td>2030.000000</td>\n      <td>2030.000000</td>\n      <td>2030.000000</td>\n      <td>2030.000000</td>\n    </tr>\n    <tr>\n      <th>модуль упругости, ГПа</th>\n      <td>738.736842</td>\n      <td>738.736842</td>\n      <td>738.736842</td>\n      <td>738.736842</td>\n      <td>753.000000</td>\n    </tr>\n    <tr>\n      <th>Количество отвердителя, м.%</th>\n      <td>30.000000</td>\n      <td>50.000000</td>\n      <td>49.900000</td>\n      <td>129.000000</td>\n      <td>111.860000</td>\n    </tr>\n    <tr>\n      <th>Содержание эпоксидных групп,%_2</th>\n      <td>22.267857</td>\n      <td>23.750000</td>\n      <td>33.000000</td>\n      <td>21.250000</td>\n      <td>22.267857</td>\n    </tr>\n    <tr>\n      <th>Температура вспышки, С_2</th>\n      <td>100.000000</td>\n      <td>284.615385</td>\n      <td>284.615385</td>\n      <td>300.000000</td>\n      <td>284.615385</td>\n    </tr>\n    <tr>\n      <th>Поверхностная плотность, г/м2</th>\n      <td>210.000000</td>\n      <td>210.000000</td>\n      <td>210.000000</td>\n      <td>210.000000</td>\n      <td>210.000000</td>\n    </tr>\n    <tr>\n      <th>Модуль упругости при растяжении, ГПа</th>\n      <td>70.000000</td>\n      <td>70.000000</td>\n      <td>70.000000</td>\n      <td>70.000000</td>\n      <td>70.000000</td>\n    </tr>\n    <tr>\n      <th>Прочность при растяжении, МПа</th>\n      <td>3000.000000</td>\n      <td>3000.000000</td>\n      <td>3000.000000</td>\n      <td>3000.000000</td>\n      <td>3000.000000</td>\n    </tr>\n    <tr>\n      <th>Потребление смолы, г/м2</th>\n      <td>220.000000</td>\n      <td>220.000000</td>\n      <td>220.000000</td>\n      <td>220.000000</td>\n      <td>220.000000</td>\n    </tr>\n  </tbody>\n</table>\n</div>"
     },
     "execution_count": 8,
     "metadata": {},
     "output_type": "execute_result"
    }
   ],
   "source": [
    "# Смотрим первые 5 строк DataFrame: 'df1'\n",
    "df1.head().T"
   ],
   "metadata": {
    "collapsed": false,
    "ExecuteTime": {
     "start_time": "2023-04-16T15:41:06.439553Z",
     "end_time": "2023-04-16T15:41:06.508318Z"
    }
   }
  },
  {
   "cell_type": "code",
   "execution_count": 9,
   "outputs": [
    {
     "data": {
      "text/plain": "(1040, 4)"
     },
     "execution_count": 9,
     "metadata": {},
     "output_type": "execute_result"
    }
   ],
   "source": [
    "# Загрузка данных из файла X_nup.xlsx с указанием кодировки в DataFrame: 'df2'\n",
    "df2 = pd.read_excel('C:/Users/Shahm/DataspellProjects/VKR/Shakhmatov_VKR/X_nup.xlsx', engine='openpyxl')\n",
    "\n",
    "# Вывод общего количества строк и столбцов\n",
    "df2.shape"
   ],
   "metadata": {
    "collapsed": false,
    "ExecuteTime": {
     "start_time": "2023-04-16T15:41:06.456185Z",
     "end_time": "2023-04-16T15:41:06.713185Z"
    }
   }
  },
  {
   "cell_type": "code",
   "execution_count": 10,
   "outputs": [
    {
     "data": {
      "text/plain": "Unnamed: 0            0\nУгол нашивки, град    0\nШаг нашивки           0\nПлотность нашивки     0\ndtype: int64"
     },
     "execution_count": 10,
     "metadata": {},
     "output_type": "execute_result"
    }
   ],
   "source": [
    "# Проверка на пропуски\n",
    "df2.isnull().sum()"
   ],
   "metadata": {
    "collapsed": false,
    "ExecuteTime": {
     "start_time": "2023-04-16T15:41:06.598010Z",
     "end_time": "2023-04-16T15:41:06.714691Z"
    }
   }
  },
  {
   "cell_type": "code",
   "execution_count": 11,
   "outputs": [
    {
     "data": {
      "text/plain": "0"
     },
     "execution_count": 11,
     "metadata": {},
     "output_type": "execute_result"
    }
   ],
   "source": [
    "# Проверка на дубликаты\n",
    "df2.duplicated().sum()"
   ],
   "metadata": {
    "collapsed": false,
    "ExecuteTime": {
     "start_time": "2023-04-16T15:41:06.617134Z",
     "end_time": "2023-04-16T15:41:06.753323Z"
    }
   }
  },
  {
   "cell_type": "code",
   "execution_count": 12,
   "outputs": [
    {
     "data": {
      "text/plain": "                     count        mean         std  min         25%  \\\nUnnamed: 0          1040.0  519.500000  300.366443  0.0  259.750000   \nУгол нашивки, град  1040.0   45.000000   45.021650  0.0    0.000000   \nШаг нашивки         1040.0    6.911385    2.555181  0.0    5.102256   \nПлотность нашивки   1040.0   57.248399   12.332438  0.0   49.970740   \n\n                           50%         75%          max  \nUnnamed: 0          519.500000  779.250000  1039.000000  \nУгол нашивки, град   45.000000   90.000000    90.000000  \nШаг нашивки           6.938000    8.587662    14.440522  \nПлотность нашивки    57.413594   65.107235   103.988901  ",
      "text/html": "<div>\n<style scoped>\n    .dataframe tbody tr th:only-of-type {\n        vertical-align: middle;\n    }\n\n    .dataframe tbody tr th {\n        vertical-align: top;\n    }\n\n    .dataframe thead th {\n        text-align: right;\n    }\n</style>\n<table border=\"1\" class=\"dataframe\">\n  <thead>\n    <tr style=\"text-align: right;\">\n      <th></th>\n      <th>count</th>\n      <th>mean</th>\n      <th>std</th>\n      <th>min</th>\n      <th>25%</th>\n      <th>50%</th>\n      <th>75%</th>\n      <th>max</th>\n    </tr>\n  </thead>\n  <tbody>\n    <tr>\n      <th>Unnamed: 0</th>\n      <td>1040.0</td>\n      <td>519.500000</td>\n      <td>300.366443</td>\n      <td>0.0</td>\n      <td>259.750000</td>\n      <td>519.500000</td>\n      <td>779.250000</td>\n      <td>1039.000000</td>\n    </tr>\n    <tr>\n      <th>Угол нашивки, град</th>\n      <td>1040.0</td>\n      <td>45.000000</td>\n      <td>45.021650</td>\n      <td>0.0</td>\n      <td>0.000000</td>\n      <td>45.000000</td>\n      <td>90.000000</td>\n      <td>90.000000</td>\n    </tr>\n    <tr>\n      <th>Шаг нашивки</th>\n      <td>1040.0</td>\n      <td>6.911385</td>\n      <td>2.555181</td>\n      <td>0.0</td>\n      <td>5.102256</td>\n      <td>6.938000</td>\n      <td>8.587662</td>\n      <td>14.440522</td>\n    </tr>\n    <tr>\n      <th>Плотность нашивки</th>\n      <td>1040.0</td>\n      <td>57.248399</td>\n      <td>12.332438</td>\n      <td>0.0</td>\n      <td>49.970740</td>\n      <td>57.413594</td>\n      <td>65.107235</td>\n      <td>103.988901</td>\n    </tr>\n  </tbody>\n</table>\n</div>"
     },
     "execution_count": 12,
     "metadata": {},
     "output_type": "execute_result"
    }
   ],
   "source": [
    "# Анализ данных с использованием описательной статистики\n",
    "df2.describe().T"
   ],
   "metadata": {
    "collapsed": false,
    "ExecuteTime": {
     "start_time": "2023-04-16T15:41:06.632273Z",
     "end_time": "2023-04-16T15:41:06.800432Z"
    }
   }
  },
  {
   "cell_type": "code",
   "execution_count": 13,
   "outputs": [
    {
     "data": {
      "text/plain": "                       0     1     2     3     4\nUnnamed: 0           0.0   1.0   2.0   3.0   4.0\nУгол нашивки, град   0.0   0.0   0.0   0.0   0.0\nШаг нашивки          4.0   4.0   4.0   5.0   5.0\nПлотность нашивки   57.0  60.0  70.0  47.0  57.0",
      "text/html": "<div>\n<style scoped>\n    .dataframe tbody tr th:only-of-type {\n        vertical-align: middle;\n    }\n\n    .dataframe tbody tr th {\n        vertical-align: top;\n    }\n\n    .dataframe thead th {\n        text-align: right;\n    }\n</style>\n<table border=\"1\" class=\"dataframe\">\n  <thead>\n    <tr style=\"text-align: right;\">\n      <th></th>\n      <th>0</th>\n      <th>1</th>\n      <th>2</th>\n      <th>3</th>\n      <th>4</th>\n    </tr>\n  </thead>\n  <tbody>\n    <tr>\n      <th>Unnamed: 0</th>\n      <td>0.0</td>\n      <td>1.0</td>\n      <td>2.0</td>\n      <td>3.0</td>\n      <td>4.0</td>\n    </tr>\n    <tr>\n      <th>Угол нашивки, град</th>\n      <td>0.0</td>\n      <td>0.0</td>\n      <td>0.0</td>\n      <td>0.0</td>\n      <td>0.0</td>\n    </tr>\n    <tr>\n      <th>Шаг нашивки</th>\n      <td>4.0</td>\n      <td>4.0</td>\n      <td>4.0</td>\n      <td>5.0</td>\n      <td>5.0</td>\n    </tr>\n    <tr>\n      <th>Плотность нашивки</th>\n      <td>57.0</td>\n      <td>60.0</td>\n      <td>70.0</td>\n      <td>47.0</td>\n      <td>57.0</td>\n    </tr>\n  </tbody>\n</table>\n</div>"
     },
     "execution_count": 13,
     "metadata": {},
     "output_type": "execute_result"
    }
   ],
   "source": [
    "# Смотрим первые 5 строк DataFrame: 'df2'\n",
    "df2.head().T"
   ],
   "metadata": {
    "collapsed": false,
    "ExecuteTime": {
     "start_time": "2023-04-16T15:41:06.662981Z",
     "end_time": "2023-04-16T15:41:06.801433Z"
    }
   }
  },
  {
   "cell_type": "code",
   "execution_count": 14,
   "outputs": [
    {
     "data": {
      "text/plain": "(1040, 3)"
     },
     "execution_count": 14,
     "metadata": {},
     "output_type": "execute_result"
    }
   ],
   "source": [
    "# Удаление столбца 'Unnamed: 0' с неинформативными данными\n",
    "df2 = df2.drop(['Unnamed: 0'], axis=1)\n",
    "\n",
    "# Вывод общего количества строк и столбцов\n",
    "df2.shape"
   ],
   "metadata": {
    "collapsed": false,
    "ExecuteTime": {
     "start_time": "2023-04-16T15:41:06.699083Z",
     "end_time": "2023-04-16T15:41:06.801433Z"
    }
   }
  },
  {
   "cell_type": "code",
   "execution_count": 15,
   "outputs": [
    {
     "data": {
      "text/plain": "                       0     1     2     3     4\nУгол нашивки, град   0.0   0.0   0.0   0.0   0.0\nШаг нашивки          4.0   4.0   4.0   5.0   5.0\nПлотность нашивки   57.0  60.0  70.0  47.0  57.0",
      "text/html": "<div>\n<style scoped>\n    .dataframe tbody tr th:only-of-type {\n        vertical-align: middle;\n    }\n\n    .dataframe tbody tr th {\n        vertical-align: top;\n    }\n\n    .dataframe thead th {\n        text-align: right;\n    }\n</style>\n<table border=\"1\" class=\"dataframe\">\n  <thead>\n    <tr style=\"text-align: right;\">\n      <th></th>\n      <th>0</th>\n      <th>1</th>\n      <th>2</th>\n      <th>3</th>\n      <th>4</th>\n    </tr>\n  </thead>\n  <tbody>\n    <tr>\n      <th>Угол нашивки, град</th>\n      <td>0.0</td>\n      <td>0.0</td>\n      <td>0.0</td>\n      <td>0.0</td>\n      <td>0.0</td>\n    </tr>\n    <tr>\n      <th>Шаг нашивки</th>\n      <td>4.0</td>\n      <td>4.0</td>\n      <td>4.0</td>\n      <td>5.0</td>\n      <td>5.0</td>\n    </tr>\n    <tr>\n      <th>Плотность нашивки</th>\n      <td>57.0</td>\n      <td>60.0</td>\n      <td>70.0</td>\n      <td>47.0</td>\n      <td>57.0</td>\n    </tr>\n  </tbody>\n</table>\n</div>"
     },
     "execution_count": 15,
     "metadata": {},
     "output_type": "execute_result"
    }
   ],
   "source": [
    "# Смотрим первые 5 строк DataFrame: 'df2'\n",
    "df2.head().T"
   ],
   "metadata": {
    "collapsed": false,
    "ExecuteTime": {
     "start_time": "2023-04-16T15:41:06.718223Z",
     "end_time": "2023-04-16T15:41:06.863042Z"
    }
   }
  },
  {
   "cell_type": "markdown",
   "source": [
    "### Объединение данных 'df1' и 'df2' по индексу с использованием функции merge() с параметром 'inner'"
   ],
   "metadata": {
    "collapsed": false
   }
  },
  {
   "cell_type": "code",
   "execution_count": 16,
   "outputs": [],
   "source": [
    "# Объединение данных с использованием INNER\n",
    "data = pd.merge(df1, df2, left_index=True, right_index=True, how='inner')\n",
    "\n",
    "# Сохранение объединенных данных в новый xlsx-файл\n",
    "data.to_excel('C:/Users/Shahm/DataspellProjects/VKR/Shakhmatov_VKR/data.xlsx', index=False, engine='openpyxl')"
   ],
   "metadata": {
    "collapsed": false,
    "ExecuteTime": {
     "start_time": "2023-04-16T15:41:06.726251Z",
     "end_time": "2023-04-16T15:41:07.305859Z"
    }
   }
  },
  {
   "cell_type": "code",
   "execution_count": 17,
   "outputs": [
    {
     "data": {
      "text/plain": "(1023, 13)"
     },
     "execution_count": 17,
     "metadata": {},
     "output_type": "execute_result"
    }
   ],
   "source": [
    "# Загрузка данных из файла data.xlsx с указанием кодировки в DataFrame: 'df'\n",
    "df = pd.read_excel('C:/Users/Shahm/DataspellProjects/VKR/Shakhmatov_VKR/data.xlsx', engine='openpyxl')\n",
    "\n",
    "# Приведем столбец \"Угол нашивки\" к значениям 0 и 1 и integer\n",
    "df = df.replace({'Угол нашивки, град': {0.0 : 0, 90.0 : 1}})\n",
    "df['Угол нашивки, град'] = df['Угол нашивки, град'].astype(int)\n",
    "\n",
    "# Вывод общего количества строк и столбцов\n",
    "df.shape"
   ],
   "metadata": {
    "collapsed": false,
    "ExecuteTime": {
     "start_time": "2023-04-16T15:41:07.186994Z",
     "end_time": "2023-04-16T15:41:07.478506Z"
    }
   }
  },
  {
   "cell_type": "code",
   "execution_count": 18,
   "outputs": [
    {
     "data": {
      "text/plain": "Соотношение матрица-наполнитель         0\nПлотность, кг/м3                        0\nмодуль упругости, ГПа                   0\nКоличество отвердителя, м.%             0\nСодержание эпоксидных групп,%_2         0\nТемпература вспышки, С_2                0\nПоверхностная плотность, г/м2           0\nМодуль упругости при растяжении, ГПа    0\nПрочность при растяжении, МПа           0\nПотребление смолы, г/м2                 0\nУгол нашивки, град                      0\nШаг нашивки                             0\nПлотность нашивки                       0\ndtype: int64"
     },
     "execution_count": 18,
     "metadata": {},
     "output_type": "execute_result"
    }
   ],
   "source": [
    "# Проверка на пропуски\n",
    "df.isnull().sum()"
   ],
   "metadata": {
    "collapsed": false,
    "ExecuteTime": {
     "start_time": "2023-04-16T15:41:07.438886Z",
     "end_time": "2023-04-16T15:41:07.479509Z"
    }
   }
  },
  {
   "cell_type": "code",
   "execution_count": 19,
   "outputs": [
    {
     "data": {
      "text/plain": "0"
     },
     "execution_count": 19,
     "metadata": {},
     "output_type": "execute_result"
    }
   ],
   "source": [
    "# Проверка на дубликаты\n",
    "df.duplicated().sum()"
   ],
   "metadata": {
    "collapsed": false,
    "ExecuteTime": {
     "start_time": "2023-04-16T15:41:07.451420Z",
     "end_time": "2023-04-16T15:41:07.480509Z"
    }
   }
  },
  {
   "cell_type": "code",
   "execution_count": 20,
   "outputs": [
    {
     "data": {
      "text/plain": "Соотношение матрица-наполнитель         1014\nПлотность, кг/м3                        1013\nмодуль упругости, ГПа                   1020\nКоличество отвердителя, м.%             1005\nСодержание эпоксидных групп,%_2         1004\nТемпература вспышки, С_2                1003\nПоверхностная плотность, г/м2           1004\nМодуль упругости при растяжении, ГПа    1004\nПрочность при растяжении, МПа           1004\nПотребление смолы, г/м2                 1003\nУгол нашивки, град                         2\nШаг нашивки                              989\nПлотность нашивки                        988\ndtype: int64"
     },
     "execution_count": 20,
     "metadata": {},
     "output_type": "execute_result"
    }
   ],
   "source": [
    "#Поиск уникальных значений с помощью функции nunique\n",
    "df.nunique()"
   ],
   "metadata": {
    "collapsed": false,
    "ExecuteTime": {
     "start_time": "2023-04-16T15:41:07.470483Z",
     "end_time": "2023-04-16T15:41:07.484512Z"
    }
   }
  },
  {
   "cell_type": "code",
   "execution_count": 21,
   "outputs": [
    {
     "data": {
      "text/plain": "                                       count         mean         std  \\\nСоотношение матрица-наполнитель       1023.0     2.930366    0.913222   \nПлотность, кг/м3                      1023.0  1975.734888   73.729231   \nмодуль упругости, ГПа                 1023.0   739.923233  330.231581   \nКоличество отвердителя, м.%           1023.0   110.570769   28.295911   \nСодержание эпоксидных групп,%_2       1023.0    22.244390    2.406301   \nТемпература вспышки, С_2              1023.0   285.882151   40.943260   \nПоверхностная плотность, г/м2         1023.0   482.731833  281.314690   \nМодуль упругости при растяжении, ГПа  1023.0    73.328571    3.118983   \nПрочность при растяжении, МПа         1023.0  2466.922843  485.628006   \nПотребление смолы, г/м2               1023.0   218.423144   59.735931   \nУгол нашивки, град                    1023.0     0.491691    0.500175   \nШаг нашивки                           1023.0     6.899222    2.563467   \nПлотность нашивки                     1023.0    57.153929   12.350969   \n\n                                              min          25%          50%  \\\nСоотношение матрица-наполнитель          0.389403     2.317887     2.906878   \nПлотность, кг/м3                      1731.764635  1924.155467  1977.621657   \nмодуль упругости, ГПа                    2.436909   500.047452   739.664328   \nКоличество отвердителя, м.%             17.740275    92.443497   110.564840   \nСодержание эпоксидных групп,%_2         14.254985    20.608034    22.230744   \nТемпература вспышки, С_2               100.000000   259.066528   285.896812   \nПоверхностная плотность, г/м2            0.603740   266.816645   451.864365   \nМодуль упругости при растяжении, ГПа    64.054061    71.245018    73.268805   \nПрочность при растяжении, МПа         1036.856605  2135.850448  2459.524526   \nПотребление смолы, г/м2                 33.803026   179.627520   219.198882   \nУгол нашивки, град                       0.000000     0.000000     0.000000   \nШаг нашивки                              0.000000     5.080033     6.916144   \nПлотность нашивки                        0.000000    49.799212    57.341920   \n\n                                              75%          max  \nСоотношение матрица-наполнитель          3.552660     5.591742  \nПлотность, кг/м3                      2021.374375  2207.773481  \nмодуль упругости, ГПа                  961.812526  1911.536477  \nКоличество отвердителя, м.%            129.730366   198.953207  \nСодержание эпоксидных групп,%_2         23.961934    33.000000  \nТемпература вспышки, С_2               313.002106   413.273418  \nПоверхностная плотность, г/м2          693.225017  1399.542362  \nМодуль упругости при растяжении, ГПа    75.356612    82.682051  \nПрочность при растяжении, МПа         2767.193119  3848.436732  \nПотребление смолы, г/м2                257.481724   414.590628  \nУгол нашивки, град                       1.000000     1.000000  \nШаг нашивки                              8.586293    14.440522  \nПлотность нашивки                       64.944961   103.988901  ",
      "text/html": "<div>\n<style scoped>\n    .dataframe tbody tr th:only-of-type {\n        vertical-align: middle;\n    }\n\n    .dataframe tbody tr th {\n        vertical-align: top;\n    }\n\n    .dataframe thead th {\n        text-align: right;\n    }\n</style>\n<table border=\"1\" class=\"dataframe\">\n  <thead>\n    <tr style=\"text-align: right;\">\n      <th></th>\n      <th>count</th>\n      <th>mean</th>\n      <th>std</th>\n      <th>min</th>\n      <th>25%</th>\n      <th>50%</th>\n      <th>75%</th>\n      <th>max</th>\n    </tr>\n  </thead>\n  <tbody>\n    <tr>\n      <th>Соотношение матрица-наполнитель</th>\n      <td>1023.0</td>\n      <td>2.930366</td>\n      <td>0.913222</td>\n      <td>0.389403</td>\n      <td>2.317887</td>\n      <td>2.906878</td>\n      <td>3.552660</td>\n      <td>5.591742</td>\n    </tr>\n    <tr>\n      <th>Плотность, кг/м3</th>\n      <td>1023.0</td>\n      <td>1975.734888</td>\n      <td>73.729231</td>\n      <td>1731.764635</td>\n      <td>1924.155467</td>\n      <td>1977.621657</td>\n      <td>2021.374375</td>\n      <td>2207.773481</td>\n    </tr>\n    <tr>\n      <th>модуль упругости, ГПа</th>\n      <td>1023.0</td>\n      <td>739.923233</td>\n      <td>330.231581</td>\n      <td>2.436909</td>\n      <td>500.047452</td>\n      <td>739.664328</td>\n      <td>961.812526</td>\n      <td>1911.536477</td>\n    </tr>\n    <tr>\n      <th>Количество отвердителя, м.%</th>\n      <td>1023.0</td>\n      <td>110.570769</td>\n      <td>28.295911</td>\n      <td>17.740275</td>\n      <td>92.443497</td>\n      <td>110.564840</td>\n      <td>129.730366</td>\n      <td>198.953207</td>\n    </tr>\n    <tr>\n      <th>Содержание эпоксидных групп,%_2</th>\n      <td>1023.0</td>\n      <td>22.244390</td>\n      <td>2.406301</td>\n      <td>14.254985</td>\n      <td>20.608034</td>\n      <td>22.230744</td>\n      <td>23.961934</td>\n      <td>33.000000</td>\n    </tr>\n    <tr>\n      <th>Температура вспышки, С_2</th>\n      <td>1023.0</td>\n      <td>285.882151</td>\n      <td>40.943260</td>\n      <td>100.000000</td>\n      <td>259.066528</td>\n      <td>285.896812</td>\n      <td>313.002106</td>\n      <td>413.273418</td>\n    </tr>\n    <tr>\n      <th>Поверхностная плотность, г/м2</th>\n      <td>1023.0</td>\n      <td>482.731833</td>\n      <td>281.314690</td>\n      <td>0.603740</td>\n      <td>266.816645</td>\n      <td>451.864365</td>\n      <td>693.225017</td>\n      <td>1399.542362</td>\n    </tr>\n    <tr>\n      <th>Модуль упругости при растяжении, ГПа</th>\n      <td>1023.0</td>\n      <td>73.328571</td>\n      <td>3.118983</td>\n      <td>64.054061</td>\n      <td>71.245018</td>\n      <td>73.268805</td>\n      <td>75.356612</td>\n      <td>82.682051</td>\n    </tr>\n    <tr>\n      <th>Прочность при растяжении, МПа</th>\n      <td>1023.0</td>\n      <td>2466.922843</td>\n      <td>485.628006</td>\n      <td>1036.856605</td>\n      <td>2135.850448</td>\n      <td>2459.524526</td>\n      <td>2767.193119</td>\n      <td>3848.436732</td>\n    </tr>\n    <tr>\n      <th>Потребление смолы, г/м2</th>\n      <td>1023.0</td>\n      <td>218.423144</td>\n      <td>59.735931</td>\n      <td>33.803026</td>\n      <td>179.627520</td>\n      <td>219.198882</td>\n      <td>257.481724</td>\n      <td>414.590628</td>\n    </tr>\n    <tr>\n      <th>Угол нашивки, град</th>\n      <td>1023.0</td>\n      <td>0.491691</td>\n      <td>0.500175</td>\n      <td>0.000000</td>\n      <td>0.000000</td>\n      <td>0.000000</td>\n      <td>1.000000</td>\n      <td>1.000000</td>\n    </tr>\n    <tr>\n      <th>Шаг нашивки</th>\n      <td>1023.0</td>\n      <td>6.899222</td>\n      <td>2.563467</td>\n      <td>0.000000</td>\n      <td>5.080033</td>\n      <td>6.916144</td>\n      <td>8.586293</td>\n      <td>14.440522</td>\n    </tr>\n    <tr>\n      <th>Плотность нашивки</th>\n      <td>1023.0</td>\n      <td>57.153929</td>\n      <td>12.350969</td>\n      <td>0.000000</td>\n      <td>49.799212</td>\n      <td>57.341920</td>\n      <td>64.944961</td>\n      <td>103.988901</td>\n    </tr>\n  </tbody>\n</table>\n</div>"
     },
     "execution_count": 21,
     "metadata": {},
     "output_type": "execute_result"
    }
   ],
   "source": [
    "# Анализ данных с использованием описательной статистики\n",
    "df.describe().T"
   ],
   "metadata": {
    "collapsed": false,
    "ExecuteTime": {
     "start_time": "2023-04-16T15:41:07.483510Z",
     "end_time": "2023-04-16T15:41:07.589873Z"
    }
   }
  },
  {
   "cell_type": "code",
   "execution_count": 22,
   "outputs": [
    {
     "data": {
      "text/plain": "                                                0            1            2  \\\nСоотношение матрица-наполнитель          1.857143     1.857143     1.857143   \nПлотность, кг/м3                      2030.000000  2030.000000  2030.000000   \nмодуль упругости, ГПа                  738.736842   738.736842   738.736842   \nКоличество отвердителя, м.%             30.000000    50.000000    49.900000   \nСодержание эпоксидных групп,%_2         22.267857    23.750000    33.000000   \nТемпература вспышки, С_2               100.000000   284.615385   284.615385   \nПоверхностная плотность, г/м2          210.000000   210.000000   210.000000   \nМодуль упругости при растяжении, ГПа    70.000000    70.000000    70.000000   \nПрочность при растяжении, МПа         3000.000000  3000.000000  3000.000000   \nПотребление смолы, г/м2                220.000000   220.000000   220.000000   \nУгол нашивки, град                       0.000000     0.000000     0.000000   \nШаг нашивки                              4.000000     4.000000     4.000000   \nПлотность нашивки                       57.000000    60.000000    70.000000   \n\n                                                3            4  \nСоотношение матрица-наполнитель          1.857143     2.771331  \nПлотность, кг/м3                      2030.000000  2030.000000  \nмодуль упругости, ГПа                  738.736842   753.000000  \nКоличество отвердителя, м.%            129.000000   111.860000  \nСодержание эпоксидных групп,%_2         21.250000    22.267857  \nТемпература вспышки, С_2               300.000000   284.615385  \nПоверхностная плотность, г/м2          210.000000   210.000000  \nМодуль упругости при растяжении, ГПа    70.000000    70.000000  \nПрочность при растяжении, МПа         3000.000000  3000.000000  \nПотребление смолы, г/м2                220.000000   220.000000  \nУгол нашивки, град                       0.000000     0.000000  \nШаг нашивки                              5.000000     5.000000  \nПлотность нашивки                       47.000000    57.000000  ",
      "text/html": "<div>\n<style scoped>\n    .dataframe tbody tr th:only-of-type {\n        vertical-align: middle;\n    }\n\n    .dataframe tbody tr th {\n        vertical-align: top;\n    }\n\n    .dataframe thead th {\n        text-align: right;\n    }\n</style>\n<table border=\"1\" class=\"dataframe\">\n  <thead>\n    <tr style=\"text-align: right;\">\n      <th></th>\n      <th>0</th>\n      <th>1</th>\n      <th>2</th>\n      <th>3</th>\n      <th>4</th>\n    </tr>\n  </thead>\n  <tbody>\n    <tr>\n      <th>Соотношение матрица-наполнитель</th>\n      <td>1.857143</td>\n      <td>1.857143</td>\n      <td>1.857143</td>\n      <td>1.857143</td>\n      <td>2.771331</td>\n    </tr>\n    <tr>\n      <th>Плотность, кг/м3</th>\n      <td>2030.000000</td>\n      <td>2030.000000</td>\n      <td>2030.000000</td>\n      <td>2030.000000</td>\n      <td>2030.000000</td>\n    </tr>\n    <tr>\n      <th>модуль упругости, ГПа</th>\n      <td>738.736842</td>\n      <td>738.736842</td>\n      <td>738.736842</td>\n      <td>738.736842</td>\n      <td>753.000000</td>\n    </tr>\n    <tr>\n      <th>Количество отвердителя, м.%</th>\n      <td>30.000000</td>\n      <td>50.000000</td>\n      <td>49.900000</td>\n      <td>129.000000</td>\n      <td>111.860000</td>\n    </tr>\n    <tr>\n      <th>Содержание эпоксидных групп,%_2</th>\n      <td>22.267857</td>\n      <td>23.750000</td>\n      <td>33.000000</td>\n      <td>21.250000</td>\n      <td>22.267857</td>\n    </tr>\n    <tr>\n      <th>Температура вспышки, С_2</th>\n      <td>100.000000</td>\n      <td>284.615385</td>\n      <td>284.615385</td>\n      <td>300.000000</td>\n      <td>284.615385</td>\n    </tr>\n    <tr>\n      <th>Поверхностная плотность, г/м2</th>\n      <td>210.000000</td>\n      <td>210.000000</td>\n      <td>210.000000</td>\n      <td>210.000000</td>\n      <td>210.000000</td>\n    </tr>\n    <tr>\n      <th>Модуль упругости при растяжении, ГПа</th>\n      <td>70.000000</td>\n      <td>70.000000</td>\n      <td>70.000000</td>\n      <td>70.000000</td>\n      <td>70.000000</td>\n    </tr>\n    <tr>\n      <th>Прочность при растяжении, МПа</th>\n      <td>3000.000000</td>\n      <td>3000.000000</td>\n      <td>3000.000000</td>\n      <td>3000.000000</td>\n      <td>3000.000000</td>\n    </tr>\n    <tr>\n      <th>Потребление смолы, г/м2</th>\n      <td>220.000000</td>\n      <td>220.000000</td>\n      <td>220.000000</td>\n      <td>220.000000</td>\n      <td>220.000000</td>\n    </tr>\n    <tr>\n      <th>Угол нашивки, град</th>\n      <td>0.000000</td>\n      <td>0.000000</td>\n      <td>0.000000</td>\n      <td>0.000000</td>\n      <td>0.000000</td>\n    </tr>\n    <tr>\n      <th>Шаг нашивки</th>\n      <td>4.000000</td>\n      <td>4.000000</td>\n      <td>4.000000</td>\n      <td>5.000000</td>\n      <td>5.000000</td>\n    </tr>\n    <tr>\n      <th>Плотность нашивки</th>\n      <td>57.000000</td>\n      <td>60.000000</td>\n      <td>70.000000</td>\n      <td>47.000000</td>\n      <td>57.000000</td>\n    </tr>\n  </tbody>\n</table>\n</div>"
     },
     "execution_count": 22,
     "metadata": {},
     "output_type": "execute_result"
    }
   ],
   "source": [
    "# Смотрим первые 5 строк DataFrame: 'df'\n",
    "df.head().T"
   ],
   "metadata": {
    "collapsed": false,
    "ExecuteTime": {
     "start_time": "2023-04-16T15:41:07.556791Z",
     "end_time": "2023-04-16T15:41:07.614449Z"
    }
   }
  },
  {
   "cell_type": "markdown",
   "source": [
    "## Подготовка данных для обучения и тестирования модели:"
   ],
   "metadata": {
    "collapsed": false
   }
  },
  {
   "cell_type": "code",
   "execution_count": 22,
   "outputs": [],
   "source": [],
   "metadata": {
    "collapsed": false,
    "ExecuteTime": {
     "start_time": "2023-04-16T15:41:07.562790Z",
     "end_time": "2023-04-16T15:41:07.614449Z"
    }
   }
  },
  {
   "cell_type": "code",
   "execution_count": 23,
   "outputs": [],
   "source": [
    "# Выделение признаков и целевых переменных\n",
    "X = df.drop(['Модуль упругости при растяжении, ГПа', 'Прочность при растяжении, МПа'], axis=1)\n",
    "y1 = df['Модуль упругости при растяжении, ГПа']\n",
    "y2 = df['Прочность при растяжении, МПа']"
   ],
   "metadata": {
    "collapsed": false,
    "ExecuteTime": {
     "start_time": "2023-04-16T15:41:07.579849Z",
     "end_time": "2023-04-16T15:41:07.615456Z"
    }
   }
  },
  {
   "cell_type": "code",
   "execution_count": 24,
   "outputs": [],
   "source": [
    "# Разделение данных на обучающую и тестовую выборки\n",
    "X_train, X_test, y1_train, y1_test = train_test_split(X, y1, test_size=0.2, random_state=42)\n",
    "_, _, y2_train, y2_test = train_test_split(X, y2, test_size=0.2, random_state=42)"
   ],
   "metadata": {
    "collapsed": false,
    "ExecuteTime": {
     "start_time": "2023-04-16T15:41:07.595905Z",
     "end_time": "2023-04-16T15:41:07.615961Z"
    }
   }
  },
  {
   "cell_type": "markdown",
   "source": [
    "## Создание и обучение модели машинного обучения:"
   ],
   "metadata": {
    "collapsed": false
   }
  },
  {
   "cell_type": "code",
   "execution_count": 25,
   "outputs": [
    {
     "data": {
      "text/plain": "RandomForestRegressor(random_state=42)",
      "text/html": "<style>#sk-container-id-1 {color: black;background-color: white;}#sk-container-id-1 pre{padding: 0;}#sk-container-id-1 div.sk-toggleable {background-color: white;}#sk-container-id-1 label.sk-toggleable__label {cursor: pointer;display: block;width: 100%;margin-bottom: 0;padding: 0.3em;box-sizing: border-box;text-align: center;}#sk-container-id-1 label.sk-toggleable__label-arrow:before {content: \"▸\";float: left;margin-right: 0.25em;color: #696969;}#sk-container-id-1 label.sk-toggleable__label-arrow:hover:before {color: black;}#sk-container-id-1 div.sk-estimator:hover label.sk-toggleable__label-arrow:before {color: black;}#sk-container-id-1 div.sk-toggleable__content {max-height: 0;max-width: 0;overflow: hidden;text-align: left;background-color: #f0f8ff;}#sk-container-id-1 div.sk-toggleable__content pre {margin: 0.2em;color: black;border-radius: 0.25em;background-color: #f0f8ff;}#sk-container-id-1 input.sk-toggleable__control:checked~div.sk-toggleable__content {max-height: 200px;max-width: 100%;overflow: auto;}#sk-container-id-1 input.sk-toggleable__control:checked~label.sk-toggleable__label-arrow:before {content: \"▾\";}#sk-container-id-1 div.sk-estimator input.sk-toggleable__control:checked~label.sk-toggleable__label {background-color: #d4ebff;}#sk-container-id-1 div.sk-label input.sk-toggleable__control:checked~label.sk-toggleable__label {background-color: #d4ebff;}#sk-container-id-1 input.sk-hidden--visually {border: 0;clip: rect(1px 1px 1px 1px);clip: rect(1px, 1px, 1px, 1px);height: 1px;margin: -1px;overflow: hidden;padding: 0;position: absolute;width: 1px;}#sk-container-id-1 div.sk-estimator {font-family: monospace;background-color: #f0f8ff;border: 1px dotted black;border-radius: 0.25em;box-sizing: border-box;margin-bottom: 0.5em;}#sk-container-id-1 div.sk-estimator:hover {background-color: #d4ebff;}#sk-container-id-1 div.sk-parallel-item::after {content: \"\";width: 100%;border-bottom: 1px solid gray;flex-grow: 1;}#sk-container-id-1 div.sk-label:hover label.sk-toggleable__label {background-color: #d4ebff;}#sk-container-id-1 div.sk-serial::before {content: \"\";position: absolute;border-left: 1px solid gray;box-sizing: border-box;top: 0;bottom: 0;left: 50%;z-index: 0;}#sk-container-id-1 div.sk-serial {display: flex;flex-direction: column;align-items: center;background-color: white;padding-right: 0.2em;padding-left: 0.2em;position: relative;}#sk-container-id-1 div.sk-item {position: relative;z-index: 1;}#sk-container-id-1 div.sk-parallel {display: flex;align-items: stretch;justify-content: center;background-color: white;position: relative;}#sk-container-id-1 div.sk-item::before, #sk-container-id-1 div.sk-parallel-item::before {content: \"\";position: absolute;border-left: 1px solid gray;box-sizing: border-box;top: 0;bottom: 0;left: 50%;z-index: -1;}#sk-container-id-1 div.sk-parallel-item {display: flex;flex-direction: column;z-index: 1;position: relative;background-color: white;}#sk-container-id-1 div.sk-parallel-item:first-child::after {align-self: flex-end;width: 50%;}#sk-container-id-1 div.sk-parallel-item:last-child::after {align-self: flex-start;width: 50%;}#sk-container-id-1 div.sk-parallel-item:only-child::after {width: 0;}#sk-container-id-1 div.sk-dashed-wrapped {border: 1px dashed gray;margin: 0 0.4em 0.5em 0.4em;box-sizing: border-box;padding-bottom: 0.4em;background-color: white;}#sk-container-id-1 div.sk-label label {font-family: monospace;font-weight: bold;display: inline-block;line-height: 1.2em;}#sk-container-id-1 div.sk-label-container {text-align: center;}#sk-container-id-1 div.sk-container {/* jupyter's `normalize.less` sets `[hidden] { display: none; }` but bootstrap.min.css set `[hidden] { display: none !important; }` so we also need the `!important` here to be able to override the default hidden behavior on the sphinx rendered scikit-learn.org. See: https://github.com/scikit-learn/scikit-learn/issues/21755 */display: inline-block !important;position: relative;}#sk-container-id-1 div.sk-text-repr-fallback {display: none;}</style><div id=\"sk-container-id-1\" class=\"sk-top-container\"><div class=\"sk-text-repr-fallback\"><pre>RandomForestRegressor(random_state=42)</pre><b>In a Jupyter environment, please rerun this cell to show the HTML representation or trust the notebook. <br />On GitHub, the HTML representation is unable to render, please try loading this page with nbviewer.org.</b></div><div class=\"sk-container\" hidden><div class=\"sk-item\"><div class=\"sk-estimator sk-toggleable\"><input class=\"sk-toggleable__control sk-hidden--visually\" id=\"sk-estimator-id-1\" type=\"checkbox\" checked><label for=\"sk-estimator-id-1\" class=\"sk-toggleable__label sk-toggleable__label-arrow\">RandomForestRegressor</label><div class=\"sk-toggleable__content\"><pre>RandomForestRegressor(random_state=42)</pre></div></div></div></div></div>"
     },
     "execution_count": 25,
     "metadata": {},
     "output_type": "execute_result"
    }
   ],
   "source": [
    "# Обучение модели случайного леса для Модуля упругости при растяжении\n",
    "rf_model1 = RandomForestRegressor(random_state=42)\n",
    "rf_model1.fit(X_train, y1_train)"
   ],
   "metadata": {
    "collapsed": false,
    "ExecuteTime": {
     "start_time": "2023-04-16T15:41:07.611943Z",
     "end_time": "2023-04-16T15:41:08.794417Z"
    }
   }
  },
  {
   "cell_type": "code",
   "execution_count": 26,
   "outputs": [
    {
     "name": "stdout",
     "output_type": "stream",
     "text": [
      "Метрики для Модуля упругости при растяжении:\n",
      "MAE: 2.5311593606255163\n",
      "MSE: 10.216291862364052\n",
      "R^2: -0.09027102564520129\n"
     ]
    }
   ],
   "source": [
    "# Предсказание и оценка качества модели\n",
    "y1_pred = rf_model1.predict(X_test)\n",
    "print(\"Метрики для Модуля упругости при растяжении:\")\n",
    "print(\"MAE:\", mean_absolute_error(y1_test, y1_pred))\n",
    "print(\"MSE:\", mean_squared_error(y1_test, y1_pred))\n",
    "print(\"R^2:\", r2_score(y1_test, y1_pred))"
   ],
   "metadata": {
    "collapsed": false,
    "ExecuteTime": {
     "start_time": "2023-04-16T15:41:08.797452Z",
     "end_time": "2023-04-16T15:41:08.856362Z"
    }
   }
  },
  {
   "cell_type": "code",
   "execution_count": 27,
   "outputs": [
    {
     "data": {
      "text/plain": "RandomForestRegressor(random_state=42)",
      "text/html": "<style>#sk-container-id-2 {color: black;background-color: white;}#sk-container-id-2 pre{padding: 0;}#sk-container-id-2 div.sk-toggleable {background-color: white;}#sk-container-id-2 label.sk-toggleable__label {cursor: pointer;display: block;width: 100%;margin-bottom: 0;padding: 0.3em;box-sizing: border-box;text-align: center;}#sk-container-id-2 label.sk-toggleable__label-arrow:before {content: \"▸\";float: left;margin-right: 0.25em;color: #696969;}#sk-container-id-2 label.sk-toggleable__label-arrow:hover:before {color: black;}#sk-container-id-2 div.sk-estimator:hover label.sk-toggleable__label-arrow:before {color: black;}#sk-container-id-2 div.sk-toggleable__content {max-height: 0;max-width: 0;overflow: hidden;text-align: left;background-color: #f0f8ff;}#sk-container-id-2 div.sk-toggleable__content pre {margin: 0.2em;color: black;border-radius: 0.25em;background-color: #f0f8ff;}#sk-container-id-2 input.sk-toggleable__control:checked~div.sk-toggleable__content {max-height: 200px;max-width: 100%;overflow: auto;}#sk-container-id-2 input.sk-toggleable__control:checked~label.sk-toggleable__label-arrow:before {content: \"▾\";}#sk-container-id-2 div.sk-estimator input.sk-toggleable__control:checked~label.sk-toggleable__label {background-color: #d4ebff;}#sk-container-id-2 div.sk-label input.sk-toggleable__control:checked~label.sk-toggleable__label {background-color: #d4ebff;}#sk-container-id-2 input.sk-hidden--visually {border: 0;clip: rect(1px 1px 1px 1px);clip: rect(1px, 1px, 1px, 1px);height: 1px;margin: -1px;overflow: hidden;padding: 0;position: absolute;width: 1px;}#sk-container-id-2 div.sk-estimator {font-family: monospace;background-color: #f0f8ff;border: 1px dotted black;border-radius: 0.25em;box-sizing: border-box;margin-bottom: 0.5em;}#sk-container-id-2 div.sk-estimator:hover {background-color: #d4ebff;}#sk-container-id-2 div.sk-parallel-item::after {content: \"\";width: 100%;border-bottom: 1px solid gray;flex-grow: 1;}#sk-container-id-2 div.sk-label:hover label.sk-toggleable__label {background-color: #d4ebff;}#sk-container-id-2 div.sk-serial::before {content: \"\";position: absolute;border-left: 1px solid gray;box-sizing: border-box;top: 0;bottom: 0;left: 50%;z-index: 0;}#sk-container-id-2 div.sk-serial {display: flex;flex-direction: column;align-items: center;background-color: white;padding-right: 0.2em;padding-left: 0.2em;position: relative;}#sk-container-id-2 div.sk-item {position: relative;z-index: 1;}#sk-container-id-2 div.sk-parallel {display: flex;align-items: stretch;justify-content: center;background-color: white;position: relative;}#sk-container-id-2 div.sk-item::before, #sk-container-id-2 div.sk-parallel-item::before {content: \"\";position: absolute;border-left: 1px solid gray;box-sizing: border-box;top: 0;bottom: 0;left: 50%;z-index: -1;}#sk-container-id-2 div.sk-parallel-item {display: flex;flex-direction: column;z-index: 1;position: relative;background-color: white;}#sk-container-id-2 div.sk-parallel-item:first-child::after {align-self: flex-end;width: 50%;}#sk-container-id-2 div.sk-parallel-item:last-child::after {align-self: flex-start;width: 50%;}#sk-container-id-2 div.sk-parallel-item:only-child::after {width: 0;}#sk-container-id-2 div.sk-dashed-wrapped {border: 1px dashed gray;margin: 0 0.4em 0.5em 0.4em;box-sizing: border-box;padding-bottom: 0.4em;background-color: white;}#sk-container-id-2 div.sk-label label {font-family: monospace;font-weight: bold;display: inline-block;line-height: 1.2em;}#sk-container-id-2 div.sk-label-container {text-align: center;}#sk-container-id-2 div.sk-container {/* jupyter's `normalize.less` sets `[hidden] { display: none; }` but bootstrap.min.css set `[hidden] { display: none !important; }` so we also need the `!important` here to be able to override the default hidden behavior on the sphinx rendered scikit-learn.org. See: https://github.com/scikit-learn/scikit-learn/issues/21755 */display: inline-block !important;position: relative;}#sk-container-id-2 div.sk-text-repr-fallback {display: none;}</style><div id=\"sk-container-id-2\" class=\"sk-top-container\"><div class=\"sk-text-repr-fallback\"><pre>RandomForestRegressor(random_state=42)</pre><b>In a Jupyter environment, please rerun this cell to show the HTML representation or trust the notebook. <br />On GitHub, the HTML representation is unable to render, please try loading this page with nbviewer.org.</b></div><div class=\"sk-container\" hidden><div class=\"sk-item\"><div class=\"sk-estimator sk-toggleable\"><input class=\"sk-toggleable__control sk-hidden--visually\" id=\"sk-estimator-id-2\" type=\"checkbox\" checked><label for=\"sk-estimator-id-2\" class=\"sk-toggleable__label sk-toggleable__label-arrow\">RandomForestRegressor</label><div class=\"sk-toggleable__content\"><pre>RandomForestRegressor(random_state=42)</pre></div></div></div></div></div>"
     },
     "execution_count": 27,
     "metadata": {},
     "output_type": "execute_result"
    }
   ],
   "source": [
    "# Обучение модели случайного леса для Прочности при растяжении\n",
    "rf_model2 = RandomForestRegressor(random_state=42)\n",
    "rf_model2.fit(X_train, y2_train)"
   ],
   "metadata": {
    "collapsed": false,
    "ExecuteTime": {
     "start_time": "2023-04-16T15:41:08.828100Z",
     "end_time": "2023-04-16T15:41:09.875239Z"
    }
   }
  },
  {
   "cell_type": "code",
   "execution_count": 28,
   "outputs": [
    {
     "name": "stdout",
     "output_type": "stream",
     "text": [
      "MAE: 373.4496910619894\n",
      "MSE: 227667.93998074872\n",
      "R^2: -0.04940156550370145\n"
     ]
    }
   ],
   "source": [
    "# Предсказание и оценка качества модели\n",
    "y2_pred = rf_model2.predict(X_test)\n",
    "# Метрики для Прочности при растяжении:\n",
    "print(\"MAE:\", mean_absolute_error(y2_test, y2_pred))\n",
    "print(\"MSE:\", mean_squared_error(y2_test, y2_pred))\n",
    "print(\"R^2:\", r2_score(y2_test, y2_pred))"
   ],
   "metadata": {
    "collapsed": false,
    "ExecuteTime": {
     "start_time": "2023-04-16T15:41:09.878259Z",
     "end_time": "2023-04-16T15:41:09.920395Z"
    }
   }
  },
  {
   "cell_type": "markdown",
   "source": [
    "## Создание и обучение нейронной сети:"
   ],
   "metadata": {
    "collapsed": false
   }
  },
  {
   "cell_type": "code",
   "execution_count": 29,
   "outputs": [],
   "source": [
    "# Создание архитектуры нейронной сети\n",
    "def create_model():\n",
    "    model = Sequential()\n",
    "    model.add(Dense(128, activation='relu', input_dim=X_train.shape[1]))\n",
    "    model.add(Dropout(0.2))\n",
    "    model.add(Dense(64, activation='relu'))\n",
    "    model.add(Dense(1, activation='linear'))\n",
    "\n",
    "    model.compile(optimizer='adam', loss='mean_squared_error')\n",
    "    return model"
   ],
   "metadata": {
    "collapsed": false,
    "ExecuteTime": {
     "start_time": "2023-04-16T15:41:09.915376Z",
     "end_time": "2023-04-16T15:41:09.929424Z"
    }
   }
  },
  {
   "cell_type": "code",
   "execution_count": 30,
   "outputs": [
    {
     "name": "stdout",
     "output_type": "stream",
     "text": [
      "Epoch 1/100\n",
      "21/21 [==============================] - 1s 14ms/step - loss: 39635.4531 - val_loss: 412.7708\n",
      "Epoch 2/100\n",
      "21/21 [==============================] - 0s 6ms/step - loss: 7464.2637 - val_loss: 985.7695\n",
      "Epoch 3/100\n",
      "21/21 [==============================] - 0s 6ms/step - loss: 4648.2612 - val_loss: 100.6798\n",
      "Epoch 4/100\n",
      "21/21 [==============================] - 0s 6ms/step - loss: 2891.8887 - val_loss: 84.6644\n",
      "Epoch 5/100\n",
      "21/21 [==============================] - 0s 6ms/step - loss: 2783.8447 - val_loss: 141.2821\n",
      "Epoch 6/100\n",
      "21/21 [==============================] - 0s 6ms/step - loss: 1697.4916 - val_loss: 80.8750\n",
      "Epoch 7/100\n",
      "21/21 [==============================] - 0s 6ms/step - loss: 1313.7982 - val_loss: 127.6008\n",
      "Epoch 8/100\n",
      "21/21 [==============================] - 0s 6ms/step - loss: 1124.3647 - val_loss: 158.0049\n",
      "Epoch 9/100\n",
      "21/21 [==============================] - 0s 6ms/step - loss: 788.9846 - val_loss: 138.3905\n",
      "Epoch 10/100\n",
      "21/21 [==============================] - 0s 6ms/step - loss: 719.3368 - val_loss: 61.8301\n",
      "Epoch 11/100\n",
      "21/21 [==============================] - 0s 6ms/step - loss: 614.6891 - val_loss: 71.6097\n",
      "Epoch 12/100\n",
      "21/21 [==============================] - 0s 6ms/step - loss: 598.2785 - val_loss: 124.0390\n",
      "Epoch 13/100\n",
      "21/21 [==============================] - 0s 6ms/step - loss: 525.1146 - val_loss: 141.6474\n",
      "Epoch 14/100\n",
      "21/21 [==============================] - 0s 6ms/step - loss: 452.3596 - val_loss: 72.8331\n",
      "Epoch 15/100\n",
      "21/21 [==============================] - 0s 6ms/step - loss: 381.0002 - val_loss: 104.7195\n",
      "Epoch 16/100\n",
      "21/21 [==============================] - 0s 6ms/step - loss: 332.7605 - val_loss: 133.8582\n",
      "Epoch 17/100\n",
      "21/21 [==============================] - 0s 6ms/step - loss: 325.5117 - val_loss: 87.0820\n",
      "Epoch 18/100\n",
      "21/21 [==============================] - 0s 5ms/step - loss: 304.9887 - val_loss: 188.6638\n",
      "Epoch 19/100\n",
      "21/21 [==============================] - 0s 5ms/step - loss: 251.4581 - val_loss: 78.3916\n",
      "Epoch 20/100\n",
      "21/21 [==============================] - 0s 6ms/step - loss: 273.6778 - val_loss: 184.2599\n",
      "Epoch 21/100\n",
      "21/21 [==============================] - 0s 5ms/step - loss: 242.9009 - val_loss: 72.1971\n",
      "Epoch 22/100\n",
      "21/21 [==============================] - 0s 6ms/step - loss: 247.8723 - val_loss: 135.2051\n",
      "Epoch 23/100\n",
      "21/21 [==============================] - 0s 6ms/step - loss: 213.3061 - val_loss: 230.9502\n",
      "Epoch 24/100\n",
      "21/21 [==============================] - 0s 6ms/step - loss: 202.6622 - val_loss: 166.9678\n",
      "Epoch 25/100\n",
      "21/21 [==============================] - 0s 6ms/step - loss: 191.9605 - val_loss: 208.2320\n",
      "Epoch 26/100\n",
      "21/21 [==============================] - 0s 5ms/step - loss: 201.3961 - val_loss: 156.5256\n",
      "Epoch 27/100\n",
      "21/21 [==============================] - 0s 6ms/step - loss: 186.6241 - val_loss: 253.5450\n",
      "Epoch 28/100\n",
      "21/21 [==============================] - 0s 5ms/step - loss: 153.5015 - val_loss: 248.9037\n",
      "Epoch 29/100\n",
      "21/21 [==============================] - 0s 6ms/step - loss: 164.1323 - val_loss: 109.7908\n",
      "Epoch 30/100\n",
      "21/21 [==============================] - 0s 6ms/step - loss: 128.9234 - val_loss: 98.3059\n",
      "Epoch 31/100\n",
      "21/21 [==============================] - 0s 6ms/step - loss: 120.0495 - val_loss: 153.9626\n",
      "Epoch 32/100\n",
      "21/21 [==============================] - 0s 5ms/step - loss: 124.5849 - val_loss: 124.6948\n",
      "Epoch 33/100\n",
      "21/21 [==============================] - 0s 6ms/step - loss: 107.9307 - val_loss: 94.0529\n",
      "Epoch 34/100\n",
      "21/21 [==============================] - 0s 6ms/step - loss: 122.3350 - val_loss: 127.6206\n",
      "Epoch 35/100\n",
      "21/21 [==============================] - 0s 6ms/step - loss: 121.0735 - val_loss: 177.4289\n",
      "Epoch 36/100\n",
      "21/21 [==============================] - 0s 5ms/step - loss: 86.6929 - val_loss: 122.7498\n",
      "Epoch 37/100\n",
      "21/21 [==============================] - 0s 6ms/step - loss: 111.7441 - val_loss: 35.0339\n",
      "Epoch 38/100\n",
      "21/21 [==============================] - 0s 5ms/step - loss: 108.0754 - val_loss: 84.8103\n",
      "Epoch 39/100\n",
      "21/21 [==============================] - 0s 6ms/step - loss: 77.7368 - val_loss: 118.8760\n",
      "Epoch 40/100\n",
      "21/21 [==============================] - 0s 6ms/step - loss: 108.0718 - val_loss: 66.9160\n",
      "Epoch 41/100\n",
      "21/21 [==============================] - 0s 6ms/step - loss: 107.9444 - val_loss: 34.7838\n",
      "Epoch 42/100\n",
      "21/21 [==============================] - 0s 6ms/step - loss: 85.9232 - val_loss: 57.3491\n",
      "Epoch 43/100\n",
      "21/21 [==============================] - 0s 5ms/step - loss: 85.2648 - val_loss: 77.2010\n",
      "Epoch 44/100\n",
      "21/21 [==============================] - 0s 5ms/step - loss: 90.2362 - val_loss: 117.8268\n",
      "Epoch 45/100\n",
      "21/21 [==============================] - 0s 6ms/step - loss: 89.2738 - val_loss: 102.2336\n",
      "Epoch 46/100\n",
      "21/21 [==============================] - 0s 6ms/step - loss: 80.3313 - val_loss: 72.4492\n",
      "Epoch 47/100\n",
      "21/21 [==============================] - 0s 6ms/step - loss: 67.4583 - val_loss: 85.7033\n",
      "Epoch 48/100\n",
      "21/21 [==============================] - 0s 6ms/step - loss: 70.4374 - val_loss: 55.4737\n",
      "Epoch 49/100\n",
      "21/21 [==============================] - 0s 5ms/step - loss: 76.1450 - val_loss: 91.9501\n",
      "Epoch 50/100\n",
      "21/21 [==============================] - 0s 6ms/step - loss: 83.0257 - val_loss: 46.6427\n",
      "Epoch 51/100\n",
      "21/21 [==============================] - 0s 6ms/step - loss: 74.6889 - val_loss: 68.4987\n",
      "Epoch 52/100\n",
      "21/21 [==============================] - 0s 6ms/step - loss: 78.1545 - val_loss: 189.1238\n",
      "Epoch 53/100\n",
      "21/21 [==============================] - 0s 6ms/step - loss: 78.2837 - val_loss: 42.2451\n",
      "Epoch 54/100\n",
      "21/21 [==============================] - 0s 5ms/step - loss: 58.0822 - val_loss: 126.8224\n",
      "Epoch 55/100\n",
      "21/21 [==============================] - 0s 6ms/step - loss: 64.4325 - val_loss: 45.1249\n",
      "Epoch 56/100\n",
      "21/21 [==============================] - 0s 6ms/step - loss: 72.1491 - val_loss: 69.0202\n",
      "Epoch 57/100\n",
      "21/21 [==============================] - 0s 6ms/step - loss: 72.6561 - val_loss: 144.0597\n",
      "Epoch 58/100\n",
      "21/21 [==============================] - 0s 5ms/step - loss: 68.3186 - val_loss: 82.5385\n",
      "Epoch 59/100\n",
      "21/21 [==============================] - 0s 6ms/step - loss: 57.7642 - val_loss: 61.8969\n",
      "Epoch 60/100\n",
      "21/21 [==============================] - 0s 6ms/step - loss: 69.2754 - val_loss: 83.4440\n",
      "Epoch 61/100\n",
      "21/21 [==============================] - 0s 6ms/step - loss: 70.8735 - val_loss: 32.3767\n",
      "Epoch 62/100\n",
      "21/21 [==============================] - 0s 6ms/step - loss: 68.9899 - val_loss: 63.6711\n",
      "Epoch 63/100\n",
      "21/21 [==============================] - 0s 6ms/step - loss: 58.8191 - val_loss: 47.9813\n",
      "Epoch 64/100\n",
      "21/21 [==============================] - 0s 6ms/step - loss: 59.2314 - val_loss: 73.4608\n",
      "Epoch 65/100\n",
      "21/21 [==============================] - 0s 6ms/step - loss: 62.5046 - val_loss: 119.0635\n",
      "Epoch 66/100\n",
      "21/21 [==============================] - 0s 5ms/step - loss: 55.5550 - val_loss: 62.8167\n",
      "Epoch 67/100\n",
      "21/21 [==============================] - 0s 5ms/step - loss: 57.3292 - val_loss: 84.8023\n",
      "Epoch 68/100\n",
      "21/21 [==============================] - 0s 6ms/step - loss: 45.7701 - val_loss: 76.5083\n",
      "Epoch 69/100\n",
      "21/21 [==============================] - 0s 6ms/step - loss: 59.8233 - val_loss: 43.1647\n",
      "Epoch 70/100\n",
      "21/21 [==============================] - 0s 5ms/step - loss: 59.5413 - val_loss: 65.2032\n",
      "Epoch 71/100\n",
      "21/21 [==============================] - 0s 6ms/step - loss: 51.0482 - val_loss: 63.6337\n",
      "Epoch 72/100\n",
      "21/21 [==============================] - 0s 6ms/step - loss: 64.3290 - val_loss: 34.1454\n",
      "Epoch 73/100\n",
      "21/21 [==============================] - 0s 6ms/step - loss: 60.7579 - val_loss: 137.1101\n",
      "Epoch 74/100\n",
      "21/21 [==============================] - 0s 5ms/step - loss: 50.4015 - val_loss: 44.4285\n",
      "Epoch 75/100\n",
      "21/21 [==============================] - 0s 6ms/step - loss: 45.7163 - val_loss: 124.3150\n",
      "Epoch 76/100\n",
      "21/21 [==============================] - 0s 5ms/step - loss: 54.4860 - val_loss: 48.1694\n",
      "Epoch 77/100\n",
      "21/21 [==============================] - 0s 5ms/step - loss: 45.6916 - val_loss: 54.1571\n",
      "Epoch 78/100\n",
      "21/21 [==============================] - 0s 6ms/step - loss: 52.1800 - val_loss: 81.1394\n",
      "Epoch 79/100\n",
      "21/21 [==============================] - 0s 6ms/step - loss: 50.1312 - val_loss: 38.6639\n",
      "Epoch 80/100\n",
      "21/21 [==============================] - 0s 6ms/step - loss: 55.0709 - val_loss: 117.7853\n",
      "Epoch 81/100\n",
      "21/21 [==============================] - 0s 6ms/step - loss: 48.8518 - val_loss: 55.6527\n",
      "Epoch 82/100\n",
      "21/21 [==============================] - 0s 6ms/step - loss: 52.1495 - val_loss: 113.0555\n",
      "Epoch 83/100\n",
      "21/21 [==============================] - 0s 6ms/step - loss: 47.8958 - val_loss: 58.9490\n",
      "Epoch 84/100\n",
      "21/21 [==============================] - 0s 6ms/step - loss: 44.8852 - val_loss: 82.5989\n",
      "Epoch 85/100\n",
      "21/21 [==============================] - 0s 6ms/step - loss: 49.4273 - val_loss: 102.4598\n",
      "Epoch 86/100\n",
      "21/21 [==============================] - 0s 6ms/step - loss: 47.0441 - val_loss: 157.9438\n",
      "Epoch 87/100\n",
      "21/21 [==============================] - 0s 6ms/step - loss: 49.3660 - val_loss: 53.5851\n",
      "Epoch 88/100\n",
      "21/21 [==============================] - 0s 6ms/step - loss: 49.3026 - val_loss: 55.4230\n",
      "Epoch 89/100\n",
      "21/21 [==============================] - 0s 6ms/step - loss: 50.1174 - val_loss: 76.9276\n",
      "Epoch 90/100\n",
      "21/21 [==============================] - 0s 6ms/step - loss: 50.8114 - val_loss: 216.4076\n",
      "Epoch 91/100\n",
      "21/21 [==============================] - 0s 6ms/step - loss: 79.8852 - val_loss: 128.0402\n",
      "Epoch 92/100\n",
      "21/21 [==============================] - 0s 6ms/step - loss: 49.3639 - val_loss: 46.6660\n",
      "Epoch 93/100\n",
      "21/21 [==============================] - 0s 6ms/step - loss: 48.6719 - val_loss: 64.1736\n",
      "Epoch 94/100\n",
      "21/21 [==============================] - 0s 6ms/step - loss: 43.1479 - val_loss: 61.5782\n",
      "Epoch 95/100\n",
      "21/21 [==============================] - 0s 6ms/step - loss: 51.3517 - val_loss: 26.3646\n",
      "Epoch 96/100\n",
      "21/21 [==============================] - 0s 6ms/step - loss: 45.1853 - val_loss: 128.9133\n",
      "Epoch 97/100\n",
      "21/21 [==============================] - 0s 6ms/step - loss: 51.6487 - val_loss: 160.5225\n",
      "Epoch 98/100\n",
      "21/21 [==============================] - 0s 7ms/step - loss: 53.7124 - val_loss: 69.7660\n",
      "Epoch 99/100\n",
      "21/21 [==============================] - 0s 7ms/step - loss: 41.8162 - val_loss: 75.0515\n",
      "Epoch 100/100\n",
      "21/21 [==============================] - 0s 6ms/step - loss: 41.3023 - val_loss: 76.9988\n"
     ]
    },
    {
     "data": {
      "text/plain": "<keras.callbacks.History at 0x1c139df9cc0>"
     },
     "execution_count": 30,
     "metadata": {},
     "output_type": "execute_result"
    }
   ],
   "source": [
    "# Обучение нейронной сети для Модуля упругости при растяжении\n",
    "nn_model1 = create_model()\n",
    "nn_model1.fit(X_train, y1_train, epochs=100, batch_size=32,verbose=1, validation_split=0.2)"
   ],
   "metadata": {
    "collapsed": false,
    "ExecuteTime": {
     "start_time": "2023-04-16T15:41:09.927425Z",
     "end_time": "2023-04-16T15:41:25.097947Z"
    }
   }
  },
  {
   "cell_type": "code",
   "execution_count": 31,
   "outputs": [
    {
     "name": "stdout",
     "output_type": "stream",
     "text": [
      "7/7 [==============================] - 0s 2ms/step\n",
      "Метрики для Модуля упругости при растяжении (нейронная сеть):\n",
      "MAE: 7.781325021004784\n",
      "MSE: 77.59835096621428\n",
      "R^2: -7.2812075884384075\n"
     ]
    }
   ],
   "source": [
    "# Предсказание и оценка качества нейронной сети\n",
    "y1_nn_pred = nn_model1.predict(X_test)\n",
    "print(\"Метрики для Модуля упругости при растяжении (нейронная сеть):\")\n",
    "print(\"MAE:\", mean_absolute_error(y1_test, y1_nn_pred))\n",
    "print(\"MSE:\", mean_squared_error(y1_test, y1_nn_pred))\n",
    "print(\"R^2:\", r2_score(y1_test, y1_nn_pred))"
   ],
   "metadata": {
    "collapsed": false,
    "ExecuteTime": {
     "start_time": "2023-04-16T15:41:25.101953Z",
     "end_time": "2023-04-16T15:41:25.328486Z"
    }
   }
  },
  {
   "cell_type": "code",
   "execution_count": 32,
   "outputs": [
    {
     "name": "stdout",
     "output_type": "stream",
     "text": [
      "Epoch 1/100\n",
      "21/21 [==============================] - 1s 13ms/step - loss: 3160570.5000 - val_loss: 512457.3125\n",
      "Epoch 2/100\n",
      "21/21 [==============================] - 0s 6ms/step - loss: 427267.9688 - val_loss: 321182.2812\n",
      "Epoch 3/100\n",
      "21/21 [==============================] - 0s 6ms/step - loss: 335909.7188 - val_loss: 288358.2812\n",
      "Epoch 4/100\n",
      "21/21 [==============================] - 0s 6ms/step - loss: 309428.8438 - val_loss: 272740.0312\n",
      "Epoch 5/100\n",
      "21/21 [==============================] - 0s 6ms/step - loss: 301429.7812 - val_loss: 265798.5625\n",
      "Epoch 6/100\n",
      "21/21 [==============================] - 0s 6ms/step - loss: 296634.1562 - val_loss: 265129.1562\n",
      "Epoch 7/100\n",
      "21/21 [==============================] - 0s 6ms/step - loss: 302350.1562 - val_loss: 262597.6562\n",
      "Epoch 8/100\n",
      "21/21 [==============================] - 0s 6ms/step - loss: 306331.8125 - val_loss: 263318.8125\n",
      "Epoch 9/100\n",
      "21/21 [==============================] - 0s 6ms/step - loss: 287956.7188 - val_loss: 270346.0625\n",
      "Epoch 10/100\n",
      "21/21 [==============================] - 0s 6ms/step - loss: 290421.4688 - val_loss: 274070.6562\n",
      "Epoch 11/100\n",
      "21/21 [==============================] - 0s 6ms/step - loss: 289845.5312 - val_loss: 262831.6250\n",
      "Epoch 12/100\n",
      "21/21 [==============================] - 0s 6ms/step - loss: 288576.6250 - val_loss: 262170.6250\n",
      "Epoch 13/100\n",
      "21/21 [==============================] - 0s 6ms/step - loss: 305458.8125 - val_loss: 260641.5625\n",
      "Epoch 14/100\n",
      "21/21 [==============================] - 0s 6ms/step - loss: 291854.5312 - val_loss: 262236.9688\n",
      "Epoch 15/100\n",
      "21/21 [==============================] - 0s 6ms/step - loss: 277549.3438 - val_loss: 263070.7812\n",
      "Epoch 16/100\n",
      "21/21 [==============================] - 0s 6ms/step - loss: 298520.1875 - val_loss: 264636.4688\n",
      "Epoch 17/100\n",
      "21/21 [==============================] - 0s 6ms/step - loss: 281772.4375 - val_loss: 261847.2656\n",
      "Epoch 18/100\n",
      "21/21 [==============================] - 0s 6ms/step - loss: 287454.1875 - val_loss: 263344.0312\n",
      "Epoch 19/100\n",
      "21/21 [==============================] - 0s 6ms/step - loss: 280307.0938 - val_loss: 262189.7188\n",
      "Epoch 20/100\n",
      "21/21 [==============================] - 0s 6ms/step - loss: 270527.5000 - val_loss: 261884.6406\n",
      "Epoch 21/100\n",
      "21/21 [==============================] - 0s 6ms/step - loss: 281112.4062 - val_loss: 269349.9062\n",
      "Epoch 22/100\n",
      "21/21 [==============================] - 0s 6ms/step - loss: 291058.1562 - val_loss: 309401.3125\n",
      "Epoch 23/100\n",
      "21/21 [==============================] - 0s 6ms/step - loss: 286454.4688 - val_loss: 262908.3750\n",
      "Epoch 24/100\n",
      "21/21 [==============================] - 0s 6ms/step - loss: 284769.0938 - val_loss: 261132.9219\n",
      "Epoch 25/100\n",
      "21/21 [==============================] - 0s 6ms/step - loss: 291454.8750 - val_loss: 263767.5312\n",
      "Epoch 26/100\n",
      "21/21 [==============================] - 0s 6ms/step - loss: 290064.0312 - val_loss: 263520.1875\n",
      "Epoch 27/100\n",
      "21/21 [==============================] - 0s 6ms/step - loss: 288160.1562 - val_loss: 262451.5312\n",
      "Epoch 28/100\n",
      "21/21 [==============================] - 0s 6ms/step - loss: 277160.3438 - val_loss: 276552.8438\n",
      "Epoch 29/100\n",
      "21/21 [==============================] - 0s 6ms/step - loss: 278356.8125 - val_loss: 263601.1562\n",
      "Epoch 30/100\n",
      "21/21 [==============================] - 0s 6ms/step - loss: 281118.9688 - val_loss: 272137.6875\n",
      "Epoch 31/100\n",
      "21/21 [==============================] - 0s 6ms/step - loss: 285801.4375 - val_loss: 264931.8438\n",
      "Epoch 32/100\n",
      "21/21 [==============================] - 0s 6ms/step - loss: 275426.6250 - val_loss: 263840.1250\n",
      "Epoch 33/100\n",
      "21/21 [==============================] - 0s 6ms/step - loss: 287312.1562 - val_loss: 261866.1875\n",
      "Epoch 34/100\n",
      "21/21 [==============================] - 0s 6ms/step - loss: 275168.3438 - val_loss: 285916.0000\n",
      "Epoch 35/100\n",
      "21/21 [==============================] - 0s 6ms/step - loss: 287600.5938 - val_loss: 277754.0625\n",
      "Epoch 36/100\n",
      "21/21 [==============================] - 0s 6ms/step - loss: 276675.0312 - val_loss: 292859.5000\n",
      "Epoch 37/100\n",
      "21/21 [==============================] - 0s 6ms/step - loss: 280054.4375 - val_loss: 265985.5000\n",
      "Epoch 38/100\n",
      "21/21 [==============================] - 0s 6ms/step - loss: 268005.0000 - val_loss: 268512.5000\n",
      "Epoch 39/100\n",
      "21/21 [==============================] - 0s 6ms/step - loss: 271284.1250 - val_loss: 266790.1562\n",
      "Epoch 40/100\n",
      "21/21 [==============================] - 0s 6ms/step - loss: 266628.5312 - val_loss: 270516.3125\n",
      "Epoch 41/100\n",
      "21/21 [==============================] - 0s 6ms/step - loss: 274145.0625 - val_loss: 266558.9375\n",
      "Epoch 42/100\n",
      "21/21 [==============================] - 0s 6ms/step - loss: 271238.8750 - val_loss: 265188.9375\n",
      "Epoch 43/100\n",
      "21/21 [==============================] - 0s 5ms/step - loss: 286030.8125 - val_loss: 271551.5000\n",
      "Epoch 44/100\n",
      "21/21 [==============================] - 0s 6ms/step - loss: 271953.3438 - val_loss: 290266.9062\n",
      "Epoch 45/100\n",
      "21/21 [==============================] - 0s 5ms/step - loss: 280593.8125 - val_loss: 265664.7500\n",
      "Epoch 46/100\n",
      "21/21 [==============================] - 0s 6ms/step - loss: 283757.3125 - val_loss: 274323.7812\n",
      "Epoch 47/100\n",
      "21/21 [==============================] - 0s 6ms/step - loss: 259942.0625 - val_loss: 262030.3438\n",
      "Epoch 48/100\n",
      "21/21 [==============================] - 0s 6ms/step - loss: 280587.0000 - val_loss: 281995.4688\n",
      "Epoch 49/100\n",
      "21/21 [==============================] - 0s 6ms/step - loss: 258694.4844 - val_loss: 294314.4688\n",
      "Epoch 50/100\n",
      "21/21 [==============================] - 0s 6ms/step - loss: 284312.9062 - val_loss: 279146.7812\n",
      "Epoch 51/100\n",
      "21/21 [==============================] - 0s 6ms/step - loss: 274701.0000 - val_loss: 264538.5938\n",
      "Epoch 52/100\n",
      "21/21 [==============================] - 0s 6ms/step - loss: 277617.4688 - val_loss: 262781.4062\n",
      "Epoch 53/100\n",
      "21/21 [==============================] - 0s 5ms/step - loss: 274132.6875 - val_loss: 264887.9375\n",
      "Epoch 54/100\n",
      "21/21 [==============================] - 0s 5ms/step - loss: 277327.8438 - val_loss: 277673.2812\n",
      "Epoch 55/100\n",
      "21/21 [==============================] - 0s 6ms/step - loss: 282920.7188 - val_loss: 299142.5000\n",
      "Epoch 56/100\n",
      "21/21 [==============================] - 0s 6ms/step - loss: 270965.6562 - val_loss: 300571.8125\n",
      "Epoch 57/100\n",
      "21/21 [==============================] - 0s 6ms/step - loss: 271359.5000 - val_loss: 294729.2812\n",
      "Epoch 58/100\n",
      "21/21 [==============================] - 0s 5ms/step - loss: 283853.7500 - val_loss: 272106.1250\n",
      "Epoch 59/100\n",
      "21/21 [==============================] - 0s 5ms/step - loss: 265058.0312 - val_loss: 281526.3125\n",
      "Epoch 60/100\n",
      "21/21 [==============================] - 0s 5ms/step - loss: 257818.5156 - val_loss: 266405.2188\n",
      "Epoch 61/100\n",
      "21/21 [==============================] - 0s 6ms/step - loss: 267852.7500 - val_loss: 269033.1875\n",
      "Epoch 62/100\n",
      "21/21 [==============================] - 0s 6ms/step - loss: 265746.1250 - val_loss: 279123.2812\n",
      "Epoch 63/100\n",
      "21/21 [==============================] - 0s 6ms/step - loss: 275640.5000 - val_loss: 274546.0625\n",
      "Epoch 64/100\n",
      "21/21 [==============================] - 0s 6ms/step - loss: 273123.3125 - val_loss: 272447.3125\n",
      "Epoch 65/100\n",
      "21/21 [==============================] - 0s 6ms/step - loss: 274490.9375 - val_loss: 279585.9688\n",
      "Epoch 66/100\n",
      "21/21 [==============================] - 0s 6ms/step - loss: 277981.8125 - val_loss: 292263.1250\n",
      "Epoch 67/100\n",
      "21/21 [==============================] - 0s 6ms/step - loss: 267054.7188 - val_loss: 292677.1250\n",
      "Epoch 68/100\n",
      "21/21 [==============================] - 0s 5ms/step - loss: 269908.1250 - val_loss: 289312.7188\n",
      "Epoch 69/100\n",
      "21/21 [==============================] - 0s 6ms/step - loss: 275039.7500 - val_loss: 278854.4375\n",
      "Epoch 70/100\n",
      "21/21 [==============================] - 0s 5ms/step - loss: 265633.0625 - val_loss: 280495.9375\n",
      "Epoch 71/100\n",
      "21/21 [==============================] - 0s 6ms/step - loss: 259210.4688 - val_loss: 266054.6250\n",
      "Epoch 72/100\n",
      "21/21 [==============================] - 0s 6ms/step - loss: 265190.0000 - val_loss: 267326.4062\n",
      "Epoch 73/100\n",
      "21/21 [==============================] - 0s 5ms/step - loss: 286939.8750 - val_loss: 281294.7500\n",
      "Epoch 74/100\n",
      "21/21 [==============================] - 0s 5ms/step - loss: 266187.0938 - val_loss: 274399.2812\n",
      "Epoch 75/100\n",
      "21/21 [==============================] - 0s 6ms/step - loss: 270680.0625 - val_loss: 266307.7188\n",
      "Epoch 76/100\n",
      "21/21 [==============================] - 0s 6ms/step - loss: 278679.5312 - val_loss: 292035.2500\n",
      "Epoch 77/100\n",
      "21/21 [==============================] - 0s 6ms/step - loss: 270108.2500 - val_loss: 303295.2812\n",
      "Epoch 78/100\n",
      "21/21 [==============================] - 0s 6ms/step - loss: 274786.5000 - val_loss: 273326.9375\n",
      "Epoch 79/100\n",
      "21/21 [==============================] - 0s 5ms/step - loss: 267408.4688 - val_loss: 288015.5312\n",
      "Epoch 80/100\n",
      "21/21 [==============================] - 0s 6ms/step - loss: 278813.1875 - val_loss: 304807.6250\n",
      "Epoch 81/100\n",
      "21/21 [==============================] - 0s 5ms/step - loss: 273056.6562 - val_loss: 302116.1250\n",
      "Epoch 82/100\n",
      "21/21 [==============================] - 0s 6ms/step - loss: 272983.7188 - val_loss: 277656.2500\n",
      "Epoch 83/100\n",
      "21/21 [==============================] - 0s 6ms/step - loss: 260822.2344 - val_loss: 292456.0000\n",
      "Epoch 84/100\n",
      "21/21 [==============================] - 0s 6ms/step - loss: 265974.2188 - val_loss: 279950.0625\n",
      "Epoch 85/100\n",
      "21/21 [==============================] - 0s 5ms/step - loss: 273719.0312 - val_loss: 318663.9062\n",
      "Epoch 86/100\n",
      "21/21 [==============================] - 0s 6ms/step - loss: 264021.0938 - val_loss: 314241.1562\n",
      "Epoch 87/100\n",
      "21/21 [==============================] - 0s 5ms/step - loss: 276080.4688 - val_loss: 296619.5000\n",
      "Epoch 88/100\n",
      "21/21 [==============================] - 0s 5ms/step - loss: 254041.7188 - val_loss: 302768.4062\n",
      "Epoch 89/100\n",
      "21/21 [==============================] - 0s 6ms/step - loss: 259766.6719 - val_loss: 292521.0625\n",
      "Epoch 90/100\n",
      "21/21 [==============================] - 0s 6ms/step - loss: 255071.4062 - val_loss: 268344.3125\n",
      "Epoch 91/100\n",
      "21/21 [==============================] - 0s 6ms/step - loss: 272487.3750 - val_loss: 265992.1562\n",
      "Epoch 92/100\n",
      "21/21 [==============================] - 0s 5ms/step - loss: 284321.0312 - val_loss: 270718.2812\n",
      "Epoch 93/100\n",
      "21/21 [==============================] - 0s 5ms/step - loss: 271320.0938 - val_loss: 278324.4062\n",
      "Epoch 94/100\n",
      "21/21 [==============================] - 0s 5ms/step - loss: 267373.8125 - val_loss: 272075.4375\n",
      "Epoch 95/100\n",
      "21/21 [==============================] - 0s 6ms/step - loss: 277548.6250 - val_loss: 310527.9062\n",
      "Epoch 96/100\n",
      "21/21 [==============================] - 0s 5ms/step - loss: 272977.1875 - val_loss: 282807.3125\n",
      "Epoch 97/100\n",
      "21/21 [==============================] - 0s 6ms/step - loss: 266971.6562 - val_loss: 285404.0000\n",
      "Epoch 98/100\n",
      "21/21 [==============================] - 0s 5ms/step - loss: 251823.1719 - val_loss: 327904.9688\n",
      "Epoch 99/100\n",
      "21/21 [==============================] - 0s 5ms/step - loss: 276057.7500 - val_loss: 299933.9375\n",
      "Epoch 100/100\n",
      "21/21 [==============================] - 0s 6ms/step - loss: 264910.6250 - val_loss: 306666.9375\n"
     ]
    },
    {
     "data": {
      "text/plain": "<keras.callbacks.History at 0x1c2ed9ad060>"
     },
     "execution_count": 32,
     "metadata": {},
     "output_type": "execute_result"
    }
   ],
   "source": [
    "# Обучение нейронной сети для Прочности при растяжении\n",
    "nn_model2 = create_model()\n",
    "nn_model2.fit(X_train, y2_train, epochs=100, batch_size=32, verbose=1, validation_split=0.2)"
   ],
   "metadata": {
    "collapsed": false,
    "ExecuteTime": {
     "start_time": "2023-04-16T15:41:25.319557Z",
     "end_time": "2023-04-16T15:41:38.159159Z"
    }
   }
  },
  {
   "cell_type": "code",
   "execution_count": 33,
   "outputs": [
    {
     "name": "stdout",
     "output_type": "stream",
     "text": [
      "7/7 [==============================] - 0s 2ms/step\n",
      "\n",
      "Метрики для Прочности при растяжении (нейронная сеть):\n",
      "MAE: 419.01490367132936\n",
      "MSE: 281313.7833520853\n",
      "R^2: -0.29667411525931175\n"
     ]
    }
   ],
   "source": [
    "# Предсказание и оценка качества нейронной сети\n",
    "y2_nn_pred = nn_model2.predict(X_test)\n",
    "print(\"\\nМетрики для Прочности при растяжении (нейронная сеть):\")\n",
    "print(\"MAE:\", mean_absolute_error(y2_test, y2_nn_pred))\n",
    "print(\"MSE:\", mean_squared_error(y2_test, y2_nn_pred))\n",
    "print(\"R^2:\", r2_score(y2_test, y2_nn_pred))"
   ],
   "metadata": {
    "collapsed": false,
    "ExecuteTime": {
     "start_time": "2023-04-16T15:41:38.164668Z",
     "end_time": "2023-04-16T15:41:38.314767Z"
    }
   }
  },
  {
   "cell_type": "markdown",
   "source": [
    "## Создание рекомендательной системы:"
   ],
   "metadata": {
    "collapsed": false
   }
  },
  {
   "cell_type": "code",
   "execution_count": 34,
   "outputs": [
    {
     "name": "stdout",
     "output_type": "stream",
     "text": [
      "Index(['Соотношение матрица-наполнитель', 'Плотность, кг/м3',\n",
      "       'модуль упругости, ГПа', 'Количество отвердителя, м.%',\n",
      "       'Содержание эпоксидных групп,%_2', 'Температура вспышки, С_2',\n",
      "       'Поверхностная плотность, г/м2', 'Потребление смолы, г/м2',\n",
      "       'Угол нашивки, град', 'Шаг нашивки', 'Плотность нашивки'],\n",
      "      dtype='object')\n"
     ]
    }
   ],
   "source": [
    "print(X.columns)"
   ],
   "metadata": {
    "collapsed": false,
    "ExecuteTime": {
     "start_time": "2023-04-16T15:41:38.288105Z",
     "end_time": "2023-04-16T15:41:38.360874Z"
    }
   }
  },
  {
   "cell_type": "code",
   "execution_count": 35,
   "outputs": [],
   "source": [
    "# В этом случае рекомендательная система может быть основана на предсказаниях нейронной сети. Рекомендации могут быть сформированы путем определения оптимального соотношения матрица-наполнитель, которое минимизирует ошибку предсказания или максимизирует определенные характеристики материала.\n",
    "def recommend_ratio(nn_model1, nn_model2, X_sample):\n",
    "    # Входные данные должны быть предварительно масштабированы и нормализованы\n",
    "    best_ratio = None\n",
    "    best_error = float('inf')\n",
    "\n",
    "    for ratio in np.linspace(0.1, 1, num=10):\n",
    "        X_sample_modified = X_sample.copy()\n",
    "        X_sample_modified[0] = ratio\n",
    "        pred1 = nn_model1.predict(np.array([X_sample_modified]))[0]\n",
    "        pred2 = nn_model2.predict(np.array([X_sample_modified]))[0]\n",
    "\n",
    "        # Определение средней ошибки предсказания\n",
    "        error = (abs(pred1 - y1_test.iloc[0]) + abs(pred2 - y2_test.iloc[0])) / 2\n",
    "\n",
    "        if error < best_error:\n",
    "            best_error = error\n",
    "            best_ratio = ratio\n",
    "\n",
    "    return best_ratio"
   ],
   "metadata": {
    "collapsed": false,
    "ExecuteTime": {
     "start_time": "2023-04-16T15:41:38.307189Z",
     "end_time": "2023-04-16T15:41:38.376045Z"
    }
   }
  },
  {
   "cell_type": "code",
   "execution_count": 36,
   "outputs": [
    {
     "name": "stdout",
     "output_type": "stream",
     "text": [
      "1/1 [==============================] - 0s 57ms/step\n",
      "1/1 [==============================] - 0s 55ms/step\n",
      "1/1 [==============================] - 0s 22ms/step\n",
      "1/1 [==============================] - 0s 22ms/step\n",
      "1/1 [==============================] - 0s 19ms/step\n",
      "1/1 [==============================] - 0s 20ms/step\n",
      "1/1 [==============================] - 0s 20ms/step\n",
      "1/1 [==============================] - 0s 21ms/step\n",
      "1/1 [==============================] - 0s 22ms/step\n",
      "1/1 [==============================] - 0s 23ms/step\n",
      "1/1 [==============================] - 0s 21ms/step\n",
      "1/1 [==============================] - 0s 21ms/step\n",
      "1/1 [==============================] - 0s 21ms/step\n",
      "1/1 [==============================] - 0s 23ms/step\n",
      "1/1 [==============================] - 0s 23ms/step\n",
      "1/1 [==============================] - 0s 21ms/step\n",
      "1/1 [==============================] - 0s 21ms/step\n",
      "1/1 [==============================] - 0s 23ms/step\n",
      "1/1 [==============================] - 0s 21ms/step\n",
      "1/1 [==============================] - 0s 23ms/step\n",
      "Рекомендуемое соотношение матрица-наполнитель: 1.0\n"
     ]
    }
   ],
   "source": [
    "\n",
    "X_sample = X_test.iloc[0]\n",
    "best_ratio = recommend_ratio(nn_model1, nn_model2, X_sample)\n",
    "print(\"Рекомендуемое соотношение матрица-наполнитель:\", best_ratio)"
   ],
   "metadata": {
    "collapsed": false,
    "ExecuteTime": {
     "start_time": "2023-04-16T15:41:38.322290Z",
     "end_time": "2023-04-16T15:41:39.562937Z"
    }
   }
  },
  {
   "cell_type": "code",
   "execution_count": 37,
   "outputs": [],
   "source": [
    "# Обучение StandardScaler\n",
    "scaler = StandardScaler()\n",
    "scaler.fit(X_train)\n",
    "\n",
    "# Масштабирование данных\n",
    "X_train_scaled = scaler.fit_transform(X_train)\n",
    "X_test_scaled = scaler.transform(X_test)"
   ],
   "metadata": {
    "collapsed": false,
    "ExecuteTime": {
     "start_time": "2023-04-16T15:41:39.537878Z",
     "end_time": "2023-04-16T15:41:39.562937Z"
    }
   }
  },
  {
   "cell_type": "code",
   "execution_count": 38,
   "outputs": [
    {
     "name": "stdout",
     "output_type": "stream",
     "text": [
      "1/1 [==============================] - 0s 21ms/step\n",
      "1/1 [==============================] - 0s 21ms/step\n",
      "1/1 [==============================] - 0s 21ms/step\n",
      "1/1 [==============================] - 0s 21ms/step\n",
      "1/1 [==============================] - 0s 22ms/step\n",
      "1/1 [==============================] - 0s 22ms/step\n",
      "1/1 [==============================] - 0s 21ms/step\n",
      "1/1 [==============================] - 0s 19ms/step\n",
      "1/1 [==============================] - 0s 22ms/step\n",
      "1/1 [==============================] - 0s 23ms/step\n",
      "1/1 [==============================] - 0s 22ms/step\n",
      "1/1 [==============================] - 0s 21ms/step\n",
      "1/1 [==============================] - 0s 20ms/step\n",
      "1/1 [==============================] - 0s 22ms/step\n",
      "1/1 [==============================] - 0s 22ms/step\n",
      "1/1 [==============================] - 0s 23ms/step\n",
      "1/1 [==============================] - 0s 20ms/step\n",
      "1/1 [==============================] - 0s 23ms/step\n",
      "1/1 [==============================] - 0s 23ms/step\n",
      "1/1 [==============================] - 0s 24ms/step\n",
      "Рекомендуемое соотношение матрица-наполнитель: 1.0\n"
     ]
    }
   ],
   "source": [
    "\n",
    "X_sample = X_test_scaled[0, :]\n",
    "best_ratio = recommend_ratio(nn_model1, nn_model2, X_sample)\n",
    "print(\"Рекомендуемое соотношение матрица-наполнитель:\", best_ratio)"
   ],
   "metadata": {
    "collapsed": false,
    "ExecuteTime": {
     "start_time": "2023-04-16T15:41:39.551905Z",
     "end_time": "2023-04-16T15:41:40.698985Z"
    }
   }
  },
  {
   "cell_type": "code",
   "execution_count": 39,
   "outputs": [
    {
     "name": "stdout",
     "output_type": "stream",
     "text": [
      "Метрики для Модуль упругости при растяжении (XGBoost):\n",
      "MAE: 2.8464042755061345\n",
      "MSE: 12.676503683484464\n",
      "R^2: -0.3528220276774312\n",
      "Метрики для Прочность при растяжении (XGBoost):\n",
      "MAE: 427.7667023584024\n",
      "MSE: 301013.0903852201\n",
      "R^2: -0.38747514610123757\n"
     ]
    }
   ],
   "source": [
    "def print_metrics(y_true, y_pred, label):\n",
    "    print(f\"Метрики для {label}:\")\n",
    "    print(\"MAE:\", mean_absolute_error(y_true, y_pred))\n",
    "    print(\"MSE:\", mean_squared_error(y_true, y_pred))\n",
    "    print(\"R^2:\", r2_score(y_true, y_pred))\n",
    "\n",
    "xgb_model1 = xgb.XGBRegressor(random_state=42)\n",
    "xgb_model1.fit(X_train_scaled, y1_train)\n",
    "y1_xgb_pred = xgb_model1.predict(X_test_scaled)\n",
    "\n",
    "xgb_model2 = xgb.XGBRegressor(random_state=42)\n",
    "xgb_model2.fit(X_train_scaled, y2_train)\n",
    "y2_xgb_pred = xgb_model2.predict(X_test_scaled)\n",
    "\n",
    "print_metrics(y1_test, y1_xgb_pred, \"Модуль упругости при растяжении (XGBoost)\")\n",
    "print_metrics(y2_test, y2_xgb_pred, \"Прочность при растяжении (XGBoost)\")\n"
   ],
   "metadata": {
    "collapsed": false,
    "ExecuteTime": {
     "start_time": "2023-04-16T15:41:40.701986Z",
     "end_time": "2023-04-16T15:41:40.992869Z"
    }
   }
  },
  {
   "cell_type": "code",
   "execution_count": 39,
   "outputs": [],
   "source": [],
   "metadata": {
    "collapsed": false,
    "ExecuteTime": {
     "start_time": "2023-04-16T15:41:41.006940Z",
     "end_time": "2023-04-16T15:41:41.066273Z"
    }
   }
  },
  {
   "cell_type": "code",
   "execution_count": 39,
   "outputs": [],
   "source": [],
   "metadata": {
    "collapsed": false,
    "ExecuteTime": {
     "start_time": "2023-04-16T15:41:41.025553Z",
     "end_time": "2023-04-16T15:41:41.077312Z"
    }
   }
  },
  {
   "cell_type": "code",
   "execution_count": 39,
   "outputs": [],
   "source": [],
   "metadata": {
    "collapsed": false,
    "ExecuteTime": {
     "start_time": "2023-04-16T15:41:41.043231Z",
     "end_time": "2023-04-16T15:41:41.077312Z"
    }
   }
  },
  {
   "cell_type": "code",
   "execution_count": 39,
   "outputs": [],
   "source": [],
   "metadata": {
    "collapsed": false,
    "ExecuteTime": {
     "start_time": "2023-04-16T15:41:41.056981Z",
     "end_time": "2023-04-16T15:41:41.077312Z"
    }
   }
  },
  {
   "cell_type": "code",
   "execution_count": 39,
   "outputs": [],
   "source": [],
   "metadata": {
    "collapsed": false,
    "ExecuteTime": {
     "start_time": "2023-04-16T15:41:41.072282Z",
     "end_time": "2023-04-16T15:41:41.086461Z"
    }
   }
  },
  {
   "cell_type": "code",
   "execution_count": 39,
   "outputs": [],
   "source": [],
   "metadata": {
    "collapsed": false,
    "ExecuteTime": {
     "start_time": "2023-04-16T15:41:41.087469Z",
     "end_time": "2023-04-16T15:41:41.117597Z"
    }
   }
  },
  {
   "cell_type": "code",
   "execution_count": 39,
   "outputs": [],
   "source": [],
   "metadata": {
    "collapsed": false,
    "ExecuteTime": {
     "start_time": "2023-04-16T15:41:41.103013Z",
     "end_time": "2023-04-16T15:41:41.117597Z"
    }
   }
  }
 ],
 "metadata": {
  "kernelspec": {
   "display_name": "Python 3",
   "language": "python",
   "name": "python3"
  },
  "language_info": {
   "codemirror_mode": {
    "name": "ipython",
    "version": 2
   },
   "file_extension": ".py",
   "mimetype": "text/x-python",
   "name": "python",
   "nbconvert_exporter": "python",
   "pygments_lexer": "ipython2",
   "version": "2.7.6"
  }
 },
 "nbformat": 4,
 "nbformat_minor": 0
}
